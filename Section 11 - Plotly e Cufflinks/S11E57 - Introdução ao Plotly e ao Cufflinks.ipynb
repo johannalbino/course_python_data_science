{
 "cells": [
  {
   "cell_type": "markdown",
   "metadata": {},
   "source": [
    "# Introdução ao Plotly e ao Cufflinks\n",
    "\n",
    "* Plotly é uma biblioteca de visualização de dados interativa\n",
    "* Te dá mais poder de interpretação dos dados\n",
    "* Precisamos instalar antes de usar\n",
    "\n",
    "#### Instalação\n",
    "\n",
    "pip install plotly\n",
    "pip install cufflinks\n"
   ]
  }
 ],
 "metadata": {
  "kernelspec": {
   "display_name": "Python 3",
   "language": "python",
   "name": "python3"
  },
  "language_info": {
   "codemirror_mode": {
    "name": "ipython",
    "version": 3
   },
   "file_extension": ".py",
   "mimetype": "text/x-python",
   "name": "python",
   "nbconvert_exporter": "python",
   "pygments_lexer": "ipython3",
   "version": "3.9.0"
  }
 },
 "nbformat": 4,
 "nbformat_minor": 4
}
