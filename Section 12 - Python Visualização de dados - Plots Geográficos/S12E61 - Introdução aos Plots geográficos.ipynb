{
 "cells": [
  {
   "cell_type": "markdown",
   "metadata": {},
   "source": [
    "# Plots Geográficos\n",
    "\n",
    "* Plots geográficos são um pouco desafiadores, devido aos vários possíveis formatos que os dados podem ser obtidos\n",
    "* Focaremos no plotly para este tipo de gráficos\n",
    "* Matplotlib também tem uma extensão chamada **basemap** que permite este tipo de plotagem.\n"
   ]
  },
  {
   "cell_type": "code",
   "execution_count": null,
   "metadata": {},
   "outputs": [],
   "source": []
  }
 ],
 "metadata": {
  "kernelspec": {
   "display_name": "Python 3",
   "language": "python",
   "name": "python3"
  },
  "language_info": {
   "codemirror_mode": {
    "name": "ipython",
    "version": 3
   },
   "file_extension": ".py",
   "mimetype": "text/x-python",
   "name": "python",
   "nbconvert_exporter": "python",
   "pygments_lexer": "ipython3",
   "version": "3.9.0"
  }
 },
 "nbformat": 4,
 "nbformat_minor": 4
}
