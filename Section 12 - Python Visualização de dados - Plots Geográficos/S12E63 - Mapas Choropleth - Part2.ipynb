{
 "cells": [
  {
   "cell_type": "code",
   "execution_count": 81,
   "metadata": {},
   "outputs": [
    {
     "data": {
      "text/html": [
       "        <script type=\"text/javascript\">\n",
       "        window.PlotlyConfig = {MathJaxConfig: 'local'};\n",
       "        if (window.MathJax) {MathJax.Hub.Config({SVG: {font: \"STIX-Web\"}});}\n",
       "        if (typeof require !== 'undefined') {\n",
       "        require.undef(\"plotly\");\n",
       "        requirejs.config({\n",
       "            paths: {\n",
       "                'plotly': ['https://cdn.plot.ly/plotly-latest.min']\n",
       "            }\n",
       "        });\n",
       "        require(['plotly'], function(Plotly) {\n",
       "            window._Plotly = Plotly;\n",
       "        });\n",
       "        }\n",
       "        </script>\n",
       "        "
      ]
     },
     "metadata": {},
     "output_type": "display_data"
    }
   ],
   "source": [
    "import chart_studio.plotly as py\n",
    "import plotly.graph_objs as go\n",
    "from plotly.offline import download_plotlyjs, init_notebook_mode, plot, iplot\n",
    "init_notebook_mode(connected=True)\n",
    "import pandas as pd"
   ]
  },
  {
   "cell_type": "code",
   "execution_count": 97,
   "metadata": {},
   "outputs": [],
   "source": [
    "df = pd.read_csv(\"GDP.csv\", delimiter=\";\")"
   ]
  },
  {
   "cell_type": "code",
   "execution_count": 98,
   "metadata": {},
   "outputs": [
    {
     "data": {
      "text/html": [
       "<div>\n",
       "<style scoped>\n",
       "    .dataframe tbody tr th:only-of-type {\n",
       "        vertical-align: middle;\n",
       "    }\n",
       "\n",
       "    .dataframe tbody tr th {\n",
       "        vertical-align: top;\n",
       "    }\n",
       "\n",
       "    .dataframe thead th {\n",
       "        text-align: right;\n",
       "    }\n",
       "</style>\n",
       "<table border=\"1\" class=\"dataframe\">\n",
       "  <thead>\n",
       "    <tr style=\"text-align: right;\">\n",
       "      <th></th>\n",
       "      <th>code</th>\n",
       "      <th>country</th>\n",
       "      <th>gdp</th>\n",
       "      <th>Unnamed: 3</th>\n",
       "      <th>Unnamed: 4</th>\n",
       "      <th>Unnamed: 5</th>\n",
       "    </tr>\n",
       "  </thead>\n",
       "  <tbody>\n",
       "    <tr>\n",
       "      <th>0</th>\n",
       "      <td>USA</td>\n",
       "      <td>United States</td>\n",
       "      <td>21.428</td>\n",
       "      <td>NaN</td>\n",
       "      <td>NaN</td>\n",
       "      <td>NaN</td>\n",
       "    </tr>\n",
       "    <tr>\n",
       "      <th>1</th>\n",
       "      <td>CHN</td>\n",
       "      <td>China</td>\n",
       "      <td>14.343</td>\n",
       "      <td>NaN</td>\n",
       "      <td>NaN</td>\n",
       "      <td>NaN</td>\n",
       "    </tr>\n",
       "    <tr>\n",
       "      <th>2</th>\n",
       "      <td>JPN</td>\n",
       "      <td>Japan</td>\n",
       "      <td>5.082</td>\n",
       "      <td>NaN</td>\n",
       "      <td>NaN</td>\n",
       "      <td>NaN</td>\n",
       "    </tr>\n",
       "    <tr>\n",
       "      <th>3</th>\n",
       "      <td>DEU</td>\n",
       "      <td>Germany</td>\n",
       "      <td>3.846</td>\n",
       "      <td>NaN</td>\n",
       "      <td>NaN</td>\n",
       "      <td>NaN</td>\n",
       "    </tr>\n",
       "    <tr>\n",
       "      <th>4</th>\n",
       "      <td>IND</td>\n",
       "      <td>India</td>\n",
       "      <td>2.875</td>\n",
       "      <td>NaN</td>\n",
       "      <td>NaN</td>\n",
       "      <td>NaN</td>\n",
       "    </tr>\n",
       "  </tbody>\n",
       "</table>\n",
       "</div>"
      ],
      "text/plain": [
       "  code        country     gdp  Unnamed: 3  Unnamed: 4  Unnamed: 5\n",
       "0  USA  United States  21.428         NaN         NaN         NaN\n",
       "1  CHN          China  14.343         NaN         NaN         NaN\n",
       "2  JPN          Japan   5.082         NaN         NaN         NaN\n",
       "3  DEU        Germany   3.846         NaN         NaN         NaN\n",
       "4  IND          India   2.875         NaN         NaN         NaN"
      ]
     },
     "execution_count": 98,
     "metadata": {},
     "output_type": "execute_result"
    }
   ],
   "source": [
    "df.head()"
   ]
  },
  {
   "cell_type": "code",
   "execution_count": 109,
   "metadata": {},
   "outputs": [],
   "source": [
    "data = dict(\n",
    "    type=\"choropleth\",\n",
    "    locations=df[\"code\"],\n",
    "    z=df[\"gdp\"],\n",
    "    text=df[\"country\"],\n",
    "    colorbar={\"title\": \"GDP em Bilhões de dolares\"}\n",
    ")"
   ]
  },
  {
   "cell_type": "code",
   "execution_count": 112,
   "metadata": {},
   "outputs": [],
   "source": [
    "layout = dict(\n",
    "    title=\"GDP Mundo 2019\",\n",
    "    geo=dict(\n",
    "        showframe=False,\n",
    "        projection=dict(\n",
    "            type=\"natural earth\"\n",
    "        )\n",
    "    )\n",
    ")"
   ]
  },
  {
   "cell_type": "code",
   "execution_count": 113,
   "metadata": {},
   "outputs": [],
   "source": [
    "cmap = go.Figure(data=[data], layout=layout)"
   ]
  },
  {
   "cell_type": "code",
   "execution_count": 114,
   "metadata": {
    "scrolled": false
   },
   "outputs": [
    {
     "data": {
      "application/vnd.plotly.v1+json": {
       "config": {
        "linkText": "Export to plot.ly",
        "plotlyServerURL": "https://plot.ly",
        "showLink": false
       },
       "data": [
        {
         "colorbar": {
          "title": {
           "text": "GDP em Bilhões de dolares"
          }
         },
         "locations": [
          "USA",
          "CHN",
          "JPN",
          "DEU",
          "IND",
          "GBR",
          "FRA",
          "ITA",
          "BRA",
          "CAN",
          "RUS",
          "KOR",
          "ESP",
          "AUS",
          "MEX",
          "IDN",
          "NLD",
          "SAU",
          "TUR",
          "CHE",
          "POL",
          "THA",
          "SWE",
          "BEL",
          "ARG",
          "NGA",
          "AUT",
          "IRN",
          "ARE",
          "NOR",
          "ISR",
          "IRL",
          "PHL",
          "SGP",
          "HKG",
          "MYS",
          "ZAF",
          "DNK",
          "COL",
          "EGY",
          "BGD",
          "CHL",
          "PAK",
          "FIN",
          "VNM",
          "ROU",
          "CZE",
          "PRT",
          "IRQ",
          "PER",
          "GRC",
          "NZL",
          "QAT",
          "KAZ",
          "DZA",
          "HUN",
          "UKR",
          "KWT",
          "MAR",
          "ECU",
          "SVK",
          "PRI",
          "CUB",
          "ETH",
          "KEN",
          "AGO",
          "DOM",
          "LKA",
          "OMN",
          "GTM",
          "MMR",
          "LUX",
          "BGR",
          "GHA",
          "PAN",
          "TZA",
          "BLR",
          "CRI",
          "HRV",
          "CIV",
          "UZB",
          "URY",
          "LTU",
          "MAC",
          "SVN",
          "LBN",
          "LBY",
          "SRB",
          "AZE",
          "COD",
          "JOR",
          "BOL",
          "TKM",
          "TUN",
          "CMR",
          "BHR",
          "PRY",
          "UGA",
          "LVA",
          "EST",
          "NPL",
          "YEM",
          "KHM",
          "SLV",
          "HND",
          "PNG",
          "CYP",
          "ISL",
          "TTO",
          "SEN",
          "ZMB",
          "ZWE",
          "BIH",
          "AFG",
          "SDN",
          "BWA",
          "LAO",
          "GEO",
          "MLI",
          "GAB",
          "JAM",
          "BFA",
          "ALB",
          "MOZ",
          "MLT",
          "PSE",
          "BEN",
          "MUS",
          "MDG",
          "MNG",
          "ARM",
          "GIN",
          "BRN",
          "NER",
          "BHS",
          "MKD",
          "NIC",
          "NAM",
          "MDA",
          "TCD",
          "GNQ",
          "COG",
          "RWA",
          "HTI",
          "KGZ",
          "TJK",
          "XKX",
          "MWI",
          "MRT",
          "MCO",
          "IMN",
          "LIE",
          "GUM",
          "MDV",
          "FJI",
          "MNE",
          "CYM",
          "TGO",
          "BRB",
          "SWZ",
          "GUY",
          "SUR",
          "SLE",
          "VIR",
          "DJI",
          "AND",
          "CUW",
          "LBR",
          "ABW",
          "GRL",
          "BDI",
          "FRO",
          "LSO",
          "BTN",
          "CAF",
          "LCA",
          "CPV",
          "BLZ",
          "GMB",
          "ATG",
          "SYC",
          "TLS",
          "SMR",
          "SLB",
          "GNB",
          "MNP",
          "GRD",
          "COM",
          "KNA",
          "TCA",
          "VUT",
          "WSM",
          "VCT",
          "ASM",
          "DMA",
          "TON",
          "STP",
          "FSM",
          "PLW",
          "MHL",
          "KIR",
          "NRU",
          "TUV"
         ],
         "text": [
          "United States",
          "China",
          "Japan",
          "Germany",
          "India",
          "United Kingdom",
          "France",
          "Italy",
          "Brazil",
          "Canada",
          "Russian Federation",
          "Korea, Rep.",
          "Spain",
          "Australia",
          "Mexico",
          "Indonesia",
          "Netherlands",
          "Saudi Arabia",
          "Turkey",
          "Switzerland",
          "Poland",
          "Thailand",
          "Sweden",
          "Belgium",
          "Argentina",
          "Nigeria",
          "Austria",
          "Iran, Islamic Rep.",
          "United Arab Emirates",
          "Norway",
          "Israel",
          "Ireland",
          "Philippines",
          "Singapore",
          "Hong Kong SAR, China",
          "Malaysia",
          "South Africa",
          "Denmark",
          "Colombia",
          "Egypt, Arab Rep.",
          "Bangladesh",
          "Chile",
          "Pakistan",
          "Finland",
          "Vietnam",
          "Romania",
          "Czech Republic",
          "Portugal",
          "Iraq",
          "Peru",
          "Greece",
          "New Zealand",
          "Qatar",
          "Kazakhstan",
          "Algeria",
          "Hungary",
          "Ukraine",
          "Kuwait",
          "Morocco",
          "Ecuador",
          "Slovak Republic",
          "Puerto Rico",
          "Cuba",
          "Ethiopia",
          "Kenya",
          "Angola",
          "Dominican Republic",
          "Sri Lanka",
          "Oman",
          "Guatemala",
          "Myanmar",
          "Luxembourg",
          "Bulgaria",
          "Ghana",
          "Panama",
          "Tanzania",
          "Belarus",
          "Costa Rica",
          "Croatia",
          "Cote d'Ivoire",
          "Uzbekistan",
          "Uruguay",
          "Lithuania",
          "Macao SAR, China",
          "Slovenia",
          "Lebanon",
          "Libya",
          "Serbia",
          "Azerbaijan",
          "Congo, Dem. Rep.",
          "Jordan",
          "Bolivia",
          "Turkmenistan",
          "Tunisia",
          "Cameroon",
          "Bahrain",
          "Paraguay",
          "Uganda",
          "Latvia",
          "Estonia",
          "Nepal",
          "Yemen, Rep.",
          "Cambodia",
          "El Salvador",
          "Honduras",
          "Papua New Guinea",
          "Cyprus",
          "Iceland",
          "Trinidad and Tobago",
          "Senegal",
          "Zambia",
          "Zimbabwe",
          "Bosnia and Herzegovina",
          "Afghanistan",
          "Sudan",
          "Botswana",
          "Lao PDR",
          "Georgia",
          "Mali",
          "Gabon",
          "Jamaica",
          "Burkina Faso",
          "Albania",
          "Mozambique",
          "Malta",
          "West Bank and Gaza",
          "Benin",
          "Mauritius",
          "Madagascar",
          "Mongolia",
          "Armenia",
          "Guinea",
          "Brunei Darussalam",
          "Niger",
          "Bahamas, The",
          "North Macedonia",
          "Nicaragua",
          "Namibia",
          "Moldova",
          "Chad",
          "Equatorial Guinea",
          "Congo, Rep.",
          "Rwanda",
          "Haiti",
          "Kyrgyz Republic",
          "Tajikistan",
          "Kosovo",
          "Malawi",
          "Mauritania",
          "Monaco",
          "Isle of Man",
          "Liechtenstein",
          "Guam",
          "Maldives",
          "Fiji",
          "Montenegro",
          "Cayman Islands",
          "Togo",
          "Barbados",
          "Eswatini",
          "Guyana",
          "Suriname",
          "Sierra Leone",
          "Virgin Islands (U.S.)",
          "Djibouti",
          "Andorra",
          "Curacao",
          "Liberia",
          "Aruba",
          "Greenland",
          "Burundi",
          "Faroe Islands",
          "Lesotho",
          "Bhutan",
          "Central African Republic",
          "St. Lucia",
          "Cabo Verde",
          "Belize",
          "Gambia, The",
          "Antigua and Barbuda",
          "Seychelles",
          "Timor-Leste",
          "San Marino",
          "Solomon Islands",
          "Guinea-Bissau",
          "Northern Mariana Islands",
          "Grenada",
          "Comoros",
          "St. Kitts and Nevis",
          "Turks and Caicos Islands",
          "Vanuatu",
          "Samoa",
          "St. Vincent and the Grenadines",
          "American Samoa",
          "Dominica",
          "Tonga",
          "Sao Tome and Principe",
          "Micronesia, Fed. Sts.",
          "Palau",
          "Marshall Islands",
          "Kiribati",
          "Nauru",
          "Tuvalu"
         ],
         "type": "choropleth",
         "z": [
          "21.428",
          "14.343",
          "5.082",
          "3.846",
          "2.875",
          "2.827",
          "2.716",
          "2.001",
          "1.840",
          "1.736",
          "1.700",
          "1.642",
          "1.394",
          "1.393",
          "1.258",
          "1.119",
          "909",
          "793",
          "754",
          "703",
          "592",
          "544",
          "531",
          "530",
          "450",
          "448",
          "446",
          "445",
          "421",
          "403",
          "395",
          "389",
          "377",
          "372",
          "366",
          "365",
          "351",
          "348",
          "324",
          "303",
          "303",
          "282",
          "278",
          "269",
          "262",
          "250",
          "246",
          "238",
          "234",
          "227",
          "210",
          "207",
          "183",
          "180",
          "170",
          "161",
          "154",
          "135",
          "119",
          "107",
          "105",
          "105",
          "100",
          "96",
          "96",
          "95",
          "89",
          "84",
          "77",
          "77",
          "76",
          "71",
          "68",
          "67",
          "67",
          "63",
          "63",
          "62",
          "60",
          "59",
          "58",
          "56",
          "54",
          "54",
          "54",
          "53",
          "52",
          "51",
          "48",
          "47",
          "44",
          "41",
          "41",
          "39",
          "39",
          "39",
          "38",
          "34",
          "34",
          "31",
          "31",
          "28",
          "27",
          "27",
          "25",
          "25",
          "25",
          "24",
          "24",
          "24",
          "23",
          "21",
          "20",
          "19",
          "19",
          "18",
          "18",
          "18",
          "18",
          "17",
          "16",
          "16",
          "15",
          "15",
          "15",
          "15",
          "14",
          "14",
          "14",
          "14",
          "14",
          "14",
          "13",
          "13",
          "13",
          "13",
          "13",
          "12",
          "12",
          "11",
          "11",
          "11",
          "10",
          "8",
          "8",
          "8",
          "8",
          "8",
          "8",
          "7",
          "7",
          "7",
          "6",
          "6",
          "6",
          "5",
          "5",
          "5",
          "5",
          "4",
          "4",
          "4",
          "4",
          "4",
          "3",
          "3",
          "3",
          "3",
          "3",
          "3",
          "3",
          "3",
          "2",
          "2",
          "2",
          "2",
          "2",
          "2",
          "2",
          "2",
          "2",
          "2",
          "2",
          "1",
          "1",
          "1",
          "1",
          "1",
          "1",
          "1",
          "0,917058851",
          "0,850655017",
          "0,825385185",
          "0,636",
          "0,596033333",
          "0,450353314",
          "0,429016605",
          "0,4019323",
          "0,2839949",
          "0,221278",
          "0,194647202",
          "0,11822343",
          "0,047271463"
         ]
        }
       ],
       "layout": {
        "geo": {
         "projection": {
          "type": "natural earth"
         },
         "showframe": false
        },
        "template": {
         "data": {
          "bar": [
           {
            "error_x": {
             "color": "#2a3f5f"
            },
            "error_y": {
             "color": "#2a3f5f"
            },
            "marker": {
             "line": {
              "color": "#E5ECF6",
              "width": 0.5
             }
            },
            "type": "bar"
           }
          ],
          "barpolar": [
           {
            "marker": {
             "line": {
              "color": "#E5ECF6",
              "width": 0.5
             }
            },
            "type": "barpolar"
           }
          ],
          "carpet": [
           {
            "aaxis": {
             "endlinecolor": "#2a3f5f",
             "gridcolor": "white",
             "linecolor": "white",
             "minorgridcolor": "white",
             "startlinecolor": "#2a3f5f"
            },
            "baxis": {
             "endlinecolor": "#2a3f5f",
             "gridcolor": "white",
             "linecolor": "white",
             "minorgridcolor": "white",
             "startlinecolor": "#2a3f5f"
            },
            "type": "carpet"
           }
          ],
          "choropleth": [
           {
            "colorbar": {
             "outlinewidth": 0,
             "ticks": ""
            },
            "type": "choropleth"
           }
          ],
          "contour": [
           {
            "colorbar": {
             "outlinewidth": 0,
             "ticks": ""
            },
            "colorscale": [
             [
              0,
              "#0d0887"
             ],
             [
              0.1111111111111111,
              "#46039f"
             ],
             [
              0.2222222222222222,
              "#7201a8"
             ],
             [
              0.3333333333333333,
              "#9c179e"
             ],
             [
              0.4444444444444444,
              "#bd3786"
             ],
             [
              0.5555555555555556,
              "#d8576b"
             ],
             [
              0.6666666666666666,
              "#ed7953"
             ],
             [
              0.7777777777777778,
              "#fb9f3a"
             ],
             [
              0.8888888888888888,
              "#fdca26"
             ],
             [
              1,
              "#f0f921"
             ]
            ],
            "type": "contour"
           }
          ],
          "contourcarpet": [
           {
            "colorbar": {
             "outlinewidth": 0,
             "ticks": ""
            },
            "type": "contourcarpet"
           }
          ],
          "heatmap": [
           {
            "colorbar": {
             "outlinewidth": 0,
             "ticks": ""
            },
            "colorscale": [
             [
              0,
              "#0d0887"
             ],
             [
              0.1111111111111111,
              "#46039f"
             ],
             [
              0.2222222222222222,
              "#7201a8"
             ],
             [
              0.3333333333333333,
              "#9c179e"
             ],
             [
              0.4444444444444444,
              "#bd3786"
             ],
             [
              0.5555555555555556,
              "#d8576b"
             ],
             [
              0.6666666666666666,
              "#ed7953"
             ],
             [
              0.7777777777777778,
              "#fb9f3a"
             ],
             [
              0.8888888888888888,
              "#fdca26"
             ],
             [
              1,
              "#f0f921"
             ]
            ],
            "type": "heatmap"
           }
          ],
          "heatmapgl": [
           {
            "colorbar": {
             "outlinewidth": 0,
             "ticks": ""
            },
            "colorscale": [
             [
              0,
              "#0d0887"
             ],
             [
              0.1111111111111111,
              "#46039f"
             ],
             [
              0.2222222222222222,
              "#7201a8"
             ],
             [
              0.3333333333333333,
              "#9c179e"
             ],
             [
              0.4444444444444444,
              "#bd3786"
             ],
             [
              0.5555555555555556,
              "#d8576b"
             ],
             [
              0.6666666666666666,
              "#ed7953"
             ],
             [
              0.7777777777777778,
              "#fb9f3a"
             ],
             [
              0.8888888888888888,
              "#fdca26"
             ],
             [
              1,
              "#f0f921"
             ]
            ],
            "type": "heatmapgl"
           }
          ],
          "histogram": [
           {
            "marker": {
             "colorbar": {
              "outlinewidth": 0,
              "ticks": ""
             }
            },
            "type": "histogram"
           }
          ],
          "histogram2d": [
           {
            "colorbar": {
             "outlinewidth": 0,
             "ticks": ""
            },
            "colorscale": [
             [
              0,
              "#0d0887"
             ],
             [
              0.1111111111111111,
              "#46039f"
             ],
             [
              0.2222222222222222,
              "#7201a8"
             ],
             [
              0.3333333333333333,
              "#9c179e"
             ],
             [
              0.4444444444444444,
              "#bd3786"
             ],
             [
              0.5555555555555556,
              "#d8576b"
             ],
             [
              0.6666666666666666,
              "#ed7953"
             ],
             [
              0.7777777777777778,
              "#fb9f3a"
             ],
             [
              0.8888888888888888,
              "#fdca26"
             ],
             [
              1,
              "#f0f921"
             ]
            ],
            "type": "histogram2d"
           }
          ],
          "histogram2dcontour": [
           {
            "colorbar": {
             "outlinewidth": 0,
             "ticks": ""
            },
            "colorscale": [
             [
              0,
              "#0d0887"
             ],
             [
              0.1111111111111111,
              "#46039f"
             ],
             [
              0.2222222222222222,
              "#7201a8"
             ],
             [
              0.3333333333333333,
              "#9c179e"
             ],
             [
              0.4444444444444444,
              "#bd3786"
             ],
             [
              0.5555555555555556,
              "#d8576b"
             ],
             [
              0.6666666666666666,
              "#ed7953"
             ],
             [
              0.7777777777777778,
              "#fb9f3a"
             ],
             [
              0.8888888888888888,
              "#fdca26"
             ],
             [
              1,
              "#f0f921"
             ]
            ],
            "type": "histogram2dcontour"
           }
          ],
          "mesh3d": [
           {
            "colorbar": {
             "outlinewidth": 0,
             "ticks": ""
            },
            "type": "mesh3d"
           }
          ],
          "parcoords": [
           {
            "line": {
             "colorbar": {
              "outlinewidth": 0,
              "ticks": ""
             }
            },
            "type": "parcoords"
           }
          ],
          "scatter": [
           {
            "marker": {
             "colorbar": {
              "outlinewidth": 0,
              "ticks": ""
             }
            },
            "type": "scatter"
           }
          ],
          "scatter3d": [
           {
            "line": {
             "colorbar": {
              "outlinewidth": 0,
              "ticks": ""
             }
            },
            "marker": {
             "colorbar": {
              "outlinewidth": 0,
              "ticks": ""
             }
            },
            "type": "scatter3d"
           }
          ],
          "scattercarpet": [
           {
            "marker": {
             "colorbar": {
              "outlinewidth": 0,
              "ticks": ""
             }
            },
            "type": "scattercarpet"
           }
          ],
          "scattergeo": [
           {
            "marker": {
             "colorbar": {
              "outlinewidth": 0,
              "ticks": ""
             }
            },
            "type": "scattergeo"
           }
          ],
          "scattergl": [
           {
            "marker": {
             "colorbar": {
              "outlinewidth": 0,
              "ticks": ""
             }
            },
            "type": "scattergl"
           }
          ],
          "scattermapbox": [
           {
            "marker": {
             "colorbar": {
              "outlinewidth": 0,
              "ticks": ""
             }
            },
            "type": "scattermapbox"
           }
          ],
          "scatterpolar": [
           {
            "marker": {
             "colorbar": {
              "outlinewidth": 0,
              "ticks": ""
             }
            },
            "type": "scatterpolar"
           }
          ],
          "scatterpolargl": [
           {
            "marker": {
             "colorbar": {
              "outlinewidth": 0,
              "ticks": ""
             }
            },
            "type": "scatterpolargl"
           }
          ],
          "scatterternary": [
           {
            "marker": {
             "colorbar": {
              "outlinewidth": 0,
              "ticks": ""
             }
            },
            "type": "scatterternary"
           }
          ],
          "surface": [
           {
            "colorbar": {
             "outlinewidth": 0,
             "ticks": ""
            },
            "colorscale": [
             [
              0,
              "#0d0887"
             ],
             [
              0.1111111111111111,
              "#46039f"
             ],
             [
              0.2222222222222222,
              "#7201a8"
             ],
             [
              0.3333333333333333,
              "#9c179e"
             ],
             [
              0.4444444444444444,
              "#bd3786"
             ],
             [
              0.5555555555555556,
              "#d8576b"
             ],
             [
              0.6666666666666666,
              "#ed7953"
             ],
             [
              0.7777777777777778,
              "#fb9f3a"
             ],
             [
              0.8888888888888888,
              "#fdca26"
             ],
             [
              1,
              "#f0f921"
             ]
            ],
            "type": "surface"
           }
          ],
          "table": [
           {
            "cells": {
             "fill": {
              "color": "#EBF0F8"
             },
             "line": {
              "color": "white"
             }
            },
            "header": {
             "fill": {
              "color": "#C8D4E3"
             },
             "line": {
              "color": "white"
             }
            },
            "type": "table"
           }
          ]
         },
         "layout": {
          "annotationdefaults": {
           "arrowcolor": "#2a3f5f",
           "arrowhead": 0,
           "arrowwidth": 1
          },
          "colorscale": {
           "diverging": [
            [
             0,
             "#8e0152"
            ],
            [
             0.1,
             "#c51b7d"
            ],
            [
             0.2,
             "#de77ae"
            ],
            [
             0.3,
             "#f1b6da"
            ],
            [
             0.4,
             "#fde0ef"
            ],
            [
             0.5,
             "#f7f7f7"
            ],
            [
             0.6,
             "#e6f5d0"
            ],
            [
             0.7,
             "#b8e186"
            ],
            [
             0.8,
             "#7fbc41"
            ],
            [
             0.9,
             "#4d9221"
            ],
            [
             1,
             "#276419"
            ]
           ],
           "sequential": [
            [
             0,
             "#0d0887"
            ],
            [
             0.1111111111111111,
             "#46039f"
            ],
            [
             0.2222222222222222,
             "#7201a8"
            ],
            [
             0.3333333333333333,
             "#9c179e"
            ],
            [
             0.4444444444444444,
             "#bd3786"
            ],
            [
             0.5555555555555556,
             "#d8576b"
            ],
            [
             0.6666666666666666,
             "#ed7953"
            ],
            [
             0.7777777777777778,
             "#fb9f3a"
            ],
            [
             0.8888888888888888,
             "#fdca26"
            ],
            [
             1,
             "#f0f921"
            ]
           ],
           "sequentialminus": [
            [
             0,
             "#0d0887"
            ],
            [
             0.1111111111111111,
             "#46039f"
            ],
            [
             0.2222222222222222,
             "#7201a8"
            ],
            [
             0.3333333333333333,
             "#9c179e"
            ],
            [
             0.4444444444444444,
             "#bd3786"
            ],
            [
             0.5555555555555556,
             "#d8576b"
            ],
            [
             0.6666666666666666,
             "#ed7953"
            ],
            [
             0.7777777777777778,
             "#fb9f3a"
            ],
            [
             0.8888888888888888,
             "#fdca26"
            ],
            [
             1,
             "#f0f921"
            ]
           ]
          },
          "colorway": [
           "#636efa",
           "#EF553B",
           "#00cc96",
           "#ab63fa",
           "#FFA15A",
           "#19d3f3",
           "#FF6692",
           "#B6E880",
           "#FF97FF",
           "#FECB52"
          ],
          "font": {
           "color": "#2a3f5f"
          },
          "geo": {
           "bgcolor": "white",
           "lakecolor": "white",
           "landcolor": "#E5ECF6",
           "showlakes": true,
           "showland": true,
           "subunitcolor": "white"
          },
          "hoverlabel": {
           "align": "left"
          },
          "hovermode": "closest",
          "mapbox": {
           "style": "light"
          },
          "paper_bgcolor": "white",
          "plot_bgcolor": "#E5ECF6",
          "polar": {
           "angularaxis": {
            "gridcolor": "white",
            "linecolor": "white",
            "ticks": ""
           },
           "bgcolor": "#E5ECF6",
           "radialaxis": {
            "gridcolor": "white",
            "linecolor": "white",
            "ticks": ""
           }
          },
          "scene": {
           "xaxis": {
            "backgroundcolor": "#E5ECF6",
            "gridcolor": "white",
            "gridwidth": 2,
            "linecolor": "white",
            "showbackground": true,
            "ticks": "",
            "zerolinecolor": "white"
           },
           "yaxis": {
            "backgroundcolor": "#E5ECF6",
            "gridcolor": "white",
            "gridwidth": 2,
            "linecolor": "white",
            "showbackground": true,
            "ticks": "",
            "zerolinecolor": "white"
           },
           "zaxis": {
            "backgroundcolor": "#E5ECF6",
            "gridcolor": "white",
            "gridwidth": 2,
            "linecolor": "white",
            "showbackground": true,
            "ticks": "",
            "zerolinecolor": "white"
           }
          },
          "shapedefaults": {
           "line": {
            "color": "#2a3f5f"
           }
          },
          "ternary": {
           "aaxis": {
            "gridcolor": "white",
            "linecolor": "white",
            "ticks": ""
           },
           "baxis": {
            "gridcolor": "white",
            "linecolor": "white",
            "ticks": ""
           },
           "bgcolor": "#E5ECF6",
           "caxis": {
            "gridcolor": "white",
            "linecolor": "white",
            "ticks": ""
           }
          },
          "title": {
           "x": 0.05
          },
          "xaxis": {
           "automargin": true,
           "gridcolor": "white",
           "linecolor": "white",
           "ticks": "",
           "zerolinecolor": "white",
           "zerolinewidth": 2
          },
          "yaxis": {
           "automargin": true,
           "gridcolor": "white",
           "linecolor": "white",
           "ticks": "",
           "zerolinecolor": "white",
           "zerolinewidth": 2
          }
         }
        },
        "title": {
         "text": "GDP Mundo 2019"
        }
       }
      },
      "text/html": [
       "<div>\n",
       "        \n",
       "        \n",
       "            <div id=\"dc93ac66-0323-48bd-ab1a-cbf33f2b8935\" class=\"plotly-graph-div\" style=\"height:525px; width:100%;\"></div>\n",
       "            <script type=\"text/javascript\">\n",
       "                require([\"plotly\"], function(Plotly) {\n",
       "                    window.PLOTLYENV=window.PLOTLYENV || {};\n",
       "                    \n",
       "                if (document.getElementById(\"dc93ac66-0323-48bd-ab1a-cbf33f2b8935\")) {\n",
       "                    Plotly.newPlot(\n",
       "                        'dc93ac66-0323-48bd-ab1a-cbf33f2b8935',\n",
       "                        [{\"colorbar\": {\"title\": {\"text\": \"GDP em Bilh\\u00f5es de dolares\"}}, \"locations\": [\"USA\", \"CHN\", \"JPN\", \"DEU\", \"IND\", \"GBR\", \"FRA\", \"ITA\", \"BRA\", \"CAN\", \"RUS\", \"KOR\", \"ESP\", \"AUS\", \"MEX\", \"IDN\", \"NLD\", \"SAU\", \"TUR\", \"CHE\", \"POL\", \"THA\", \"SWE\", \"BEL\", \"ARG\", \"NGA\", \"AUT\", \"IRN\", \"ARE\", \"NOR\", \"ISR\", \"IRL\", \"PHL\", \"SGP\", \"HKG\", \"MYS\", \"ZAF\", \"DNK\", \"COL\", \"EGY\", \"BGD\", \"CHL\", \"PAK\", \"FIN\", \"VNM\", \"ROU\", \"CZE\", \"PRT\", \"IRQ\", \"PER\", \"GRC\", \"NZL\", \"QAT\", \"KAZ\", \"DZA\", \"HUN\", \"UKR\", \"KWT\", \"MAR\", \"ECU\", \"SVK\", \"PRI\", \"CUB\", \"ETH\", \"KEN\", \"AGO\", \"DOM\", \"LKA\", \"OMN\", \"GTM\", \"MMR\", \"LUX\", \"BGR\", \"GHA\", \"PAN\", \"TZA\", \"BLR\", \"CRI\", \"HRV\", \"CIV\", \"UZB\", \"URY\", \"LTU\", \"MAC\", \"SVN\", \"LBN\", \"LBY\", \"SRB\", \"AZE\", \"COD\", \"JOR\", \"BOL\", \"TKM\", \"TUN\", \"CMR\", \"BHR\", \"PRY\", \"UGA\", \"LVA\", \"EST\", \"NPL\", \"YEM\", \"KHM\", \"SLV\", \"HND\", \"PNG\", \"CYP\", \"ISL\", \"TTO\", \"SEN\", \"ZMB\", \"ZWE\", \"BIH\", \"AFG\", \"SDN\", \"BWA\", \"LAO\", \"GEO\", \"MLI\", \"GAB\", \"JAM\", \"BFA\", \"ALB\", \"MOZ\", \"MLT\", \"PSE\", \"BEN\", \"MUS\", \"MDG\", \"MNG\", \"ARM\", \"GIN\", \"BRN\", \"NER\", \"BHS\", \"MKD\", \"NIC\", \"NAM\", \"MDA\", \"TCD\", \"GNQ\", \"COG\", \"RWA\", \"HTI\", \"KGZ\", \"TJK\", \"XKX\", \"MWI\", \"MRT\", \"MCO\", \"IMN\", \"LIE\", \"GUM\", \"MDV\", \"FJI\", \"MNE\", \"CYM\", \"TGO\", \"BRB\", \"SWZ\", \"GUY\", \"SUR\", \"SLE\", \"VIR\", \"DJI\", \"AND\", \"CUW\", \"LBR\", \"ABW\", \"GRL\", \"BDI\", \"FRO\", \"LSO\", \"BTN\", \"CAF\", \"LCA\", \"CPV\", \"BLZ\", \"GMB\", \"ATG\", \"SYC\", \"TLS\", \"SMR\", \"SLB\", \"GNB\", \"MNP\", \"GRD\", \"COM\", \"KNA\", \"TCA\", \"VUT\", \"WSM\", \"VCT\", \"ASM\", \"DMA\", \"TON\", \"STP\", \"FSM\", \"PLW\", \"MHL\", \"KIR\", \"NRU\", \"TUV\"], \"text\": [\"United States\", \"China\", \"Japan\", \"Germany\", \"India\", \"United Kingdom\", \"France\", \"Italy\", \"Brazil\", \"Canada\", \"Russian Federation\", \"Korea, Rep.\", \"Spain\", \"Australia\", \"Mexico\", \"Indonesia\", \"Netherlands\", \"Saudi Arabia\", \"Turkey\", \"Switzerland\", \"Poland\", \"Thailand\", \"Sweden\", \"Belgium\", \"Argentina\", \"Nigeria\", \"Austria\", \"Iran, Islamic Rep.\", \"United Arab Emirates\", \"Norway\", \"Israel\", \"Ireland\", \"Philippines\", \"Singapore\", \"Hong Kong SAR, China\", \"Malaysia\", \"South Africa\", \"Denmark\", \"Colombia\", \"Egypt, Arab Rep.\", \"Bangladesh\", \"Chile\", \"Pakistan\", \"Finland\", \"Vietnam\", \"Romania\", \"Czech Republic\", \"Portugal\", \"Iraq\", \"Peru\", \"Greece\", \"New Zealand\", \"Qatar\", \"Kazakhstan\", \"Algeria\", \"Hungary\", \"Ukraine\", \"Kuwait\", \"Morocco\", \"Ecuador\", \"Slovak Republic\", \"Puerto Rico\", \"Cuba\", \"Ethiopia\", \"Kenya\", \"Angola\", \"Dominican Republic\", \"Sri Lanka\", \"Oman\", \"Guatemala\", \"Myanmar\", \"Luxembourg\", \"Bulgaria\", \"Ghana\", \"Panama\", \"Tanzania\", \"Belarus\", \"Costa Rica\", \"Croatia\", \"Cote d'Ivoire\", \"Uzbekistan\", \"Uruguay\", \"Lithuania\", \"Macao SAR, China\", \"Slovenia\", \"Lebanon\", \"Libya\", \"Serbia\", \"Azerbaijan\", \"Congo, Dem. Rep.\", \"Jordan\", \"Bolivia\", \"Turkmenistan\", \"Tunisia\", \"Cameroon\", \"Bahrain\", \"Paraguay\", \"Uganda\", \"Latvia\", \"Estonia\", \"Nepal\", \"Yemen, Rep.\", \"Cambodia\", \"El Salvador\", \"Honduras\", \"Papua New Guinea\", \"Cyprus\", \"Iceland\", \"Trinidad and Tobago\", \"Senegal\", \"Zambia\", \"Zimbabwe\", \"Bosnia and Herzegovina\", \"Afghanistan\", \"Sudan\", \"Botswana\", \"Lao PDR\", \"Georgia\", \"Mali\", \"Gabon\", \"Jamaica\", \"Burkina Faso\", \"Albania\", \"Mozambique\", \"Malta\", \"West Bank and Gaza\", \"Benin\", \"Mauritius\", \"Madagascar\", \"Mongolia\", \"Armenia\", \"Guinea\", \"Brunei Darussalam\", \"Niger\", \"Bahamas, The\", \"North Macedonia\", \"Nicaragua\", \"Namibia\", \"Moldova\", \"Chad\", \"Equatorial Guinea\", \"Congo, Rep.\", \"Rwanda\", \"Haiti\", \"Kyrgyz Republic\", \"Tajikistan\", \"Kosovo\", \"Malawi\", \"Mauritania\", \"Monaco\", \"Isle of Man\", \"Liechtenstein\", \"Guam\", \"Maldives\", \"Fiji\", \"Montenegro\", \"Cayman Islands\", \"Togo\", \"Barbados\", \"Eswatini\", \"Guyana\", \"Suriname\", \"Sierra Leone\", \"Virgin Islands (U.S.)\", \"Djibouti\", \"Andorra\", \"Curacao\", \"Liberia\", \"Aruba\", \"Greenland\", \"Burundi\", \"Faroe Islands\", \"Lesotho\", \"Bhutan\", \"Central African Republic\", \"St. Lucia\", \"Cabo Verde\", \"Belize\", \"Gambia, The\", \"Antigua and Barbuda\", \"Seychelles\", \"Timor-Leste\", \"San Marino\", \"Solomon Islands\", \"Guinea-Bissau\", \"Northern Mariana Islands\", \"Grenada\", \"Comoros\", \"St. Kitts and Nevis\", \"Turks and Caicos Islands\", \"Vanuatu\", \"Samoa\", \"St. Vincent and the Grenadines\", \"American Samoa\", \"Dominica\", \"Tonga\", \"Sao Tome and Principe\", \"Micronesia, Fed. Sts.\", \"Palau\", \"Marshall Islands\", \"Kiribati\", \"Nauru\", \"Tuvalu\"], \"type\": \"choropleth\", \"z\": [\"21.428\", \"14.343\", \"5.082\", \"3.846\", \"2.875\", \"2.827\", \"2.716\", \"2.001\", \"1.840\", \"1.736\", \"1.700\", \"1.642\", \"1.394\", \"1.393\", \"1.258\", \"1.119\", \"909\", \"793\", \"754\", \"703\", \"592\", \"544\", \"531\", \"530\", \"450\", \"448\", \"446\", \"445\", \"421\", \"403\", \"395\", \"389\", \"377\", \"372\", \"366\", \"365\", \"351\", \"348\", \"324\", \"303\", \"303\", \"282\", \"278\", \"269\", \"262\", \"250\", \"246\", \"238\", \"234\", \"227\", \"210\", \"207\", \"183\", \"180\", \"170\", \"161\", \"154\", \"135\", \"119\", \"107\", \"105\", \"105\", \"100\", \"96\", \"96\", \"95\", \"89\", \"84\", \"77\", \"77\", \"76\", \"71\", \"68\", \"67\", \"67\", \"63\", \"63\", \"62\", \"60\", \"59\", \"58\", \"56\", \"54\", \"54\", \"54\", \"53\", \"52\", \"51\", \"48\", \"47\", \"44\", \"41\", \"41\", \"39\", \"39\", \"39\", \"38\", \"34\", \"34\", \"31\", \"31\", \"28\", \"27\", \"27\", \"25\", \"25\", \"25\", \"24\", \"24\", \"24\", \"23\", \"21\", \"20\", \"19\", \"19\", \"18\", \"18\", \"18\", \"18\", \"17\", \"16\", \"16\", \"15\", \"15\", \"15\", \"15\", \"14\", \"14\", \"14\", \"14\", \"14\", \"14\", \"13\", \"13\", \"13\", \"13\", \"13\", \"12\", \"12\", \"11\", \"11\", \"11\", \"10\", \"8\", \"8\", \"8\", \"8\", \"8\", \"8\", \"7\", \"7\", \"7\", \"6\", \"6\", \"6\", \"5\", \"5\", \"5\", \"5\", \"4\", \"4\", \"4\", \"4\", \"4\", \"3\", \"3\", \"3\", \"3\", \"3\", \"3\", \"3\", \"3\", \"2\", \"2\", \"2\", \"2\", \"2\", \"2\", \"2\", \"2\", \"2\", \"2\", \"2\", \"1\", \"1\", \"1\", \"1\", \"1\", \"1\", \"1\", \"0,917058851\", \"0,850655017\", \"0,825385185\", \"0,636\", \"0,596033333\", \"0,450353314\", \"0,429016605\", \"0,4019323\", \"0,2839949\", \"0,221278\", \"0,194647202\", \"0,11822343\", \"0,047271463\"]}],\n",
       "                        {\"geo\": {\"projection\": {\"type\": \"natural earth\"}, \"showframe\": false}, \"template\": {\"data\": {\"bar\": [{\"error_x\": {\"color\": \"#2a3f5f\"}, \"error_y\": {\"color\": \"#2a3f5f\"}, \"marker\": {\"line\": {\"color\": \"#E5ECF6\", \"width\": 0.5}}, \"type\": \"bar\"}], \"barpolar\": [{\"marker\": {\"line\": {\"color\": \"#E5ECF6\", \"width\": 0.5}}, \"type\": \"barpolar\"}], \"carpet\": [{\"aaxis\": {\"endlinecolor\": \"#2a3f5f\", \"gridcolor\": \"white\", \"linecolor\": \"white\", \"minorgridcolor\": \"white\", \"startlinecolor\": \"#2a3f5f\"}, \"baxis\": {\"endlinecolor\": \"#2a3f5f\", \"gridcolor\": \"white\", \"linecolor\": \"white\", \"minorgridcolor\": \"white\", \"startlinecolor\": \"#2a3f5f\"}, \"type\": \"carpet\"}], \"choropleth\": [{\"colorbar\": {\"outlinewidth\": 0, \"ticks\": \"\"}, \"type\": \"choropleth\"}], \"contour\": [{\"colorbar\": {\"outlinewidth\": 0, \"ticks\": \"\"}, \"colorscale\": [[0.0, \"#0d0887\"], [0.1111111111111111, \"#46039f\"], [0.2222222222222222, \"#7201a8\"], [0.3333333333333333, \"#9c179e\"], [0.4444444444444444, \"#bd3786\"], [0.5555555555555556, \"#d8576b\"], [0.6666666666666666, \"#ed7953\"], [0.7777777777777778, \"#fb9f3a\"], [0.8888888888888888, \"#fdca26\"], [1.0, \"#f0f921\"]], \"type\": \"contour\"}], \"contourcarpet\": [{\"colorbar\": {\"outlinewidth\": 0, \"ticks\": \"\"}, \"type\": \"contourcarpet\"}], \"heatmap\": [{\"colorbar\": {\"outlinewidth\": 0, \"ticks\": \"\"}, \"colorscale\": [[0.0, \"#0d0887\"], [0.1111111111111111, \"#46039f\"], [0.2222222222222222, \"#7201a8\"], [0.3333333333333333, \"#9c179e\"], [0.4444444444444444, \"#bd3786\"], [0.5555555555555556, \"#d8576b\"], [0.6666666666666666, \"#ed7953\"], [0.7777777777777778, \"#fb9f3a\"], [0.8888888888888888, \"#fdca26\"], [1.0, \"#f0f921\"]], \"type\": \"heatmap\"}], \"heatmapgl\": [{\"colorbar\": {\"outlinewidth\": 0, \"ticks\": \"\"}, \"colorscale\": [[0.0, \"#0d0887\"], [0.1111111111111111, \"#46039f\"], [0.2222222222222222, \"#7201a8\"], [0.3333333333333333, \"#9c179e\"], [0.4444444444444444, \"#bd3786\"], [0.5555555555555556, \"#d8576b\"], [0.6666666666666666, \"#ed7953\"], [0.7777777777777778, \"#fb9f3a\"], [0.8888888888888888, \"#fdca26\"], [1.0, \"#f0f921\"]], \"type\": \"heatmapgl\"}], \"histogram\": [{\"marker\": {\"colorbar\": {\"outlinewidth\": 0, \"ticks\": \"\"}}, \"type\": \"histogram\"}], \"histogram2d\": [{\"colorbar\": {\"outlinewidth\": 0, \"ticks\": \"\"}, \"colorscale\": [[0.0, \"#0d0887\"], [0.1111111111111111, \"#46039f\"], [0.2222222222222222, \"#7201a8\"], [0.3333333333333333, \"#9c179e\"], [0.4444444444444444, \"#bd3786\"], [0.5555555555555556, \"#d8576b\"], [0.6666666666666666, \"#ed7953\"], [0.7777777777777778, \"#fb9f3a\"], [0.8888888888888888, \"#fdca26\"], [1.0, \"#f0f921\"]], \"type\": \"histogram2d\"}], \"histogram2dcontour\": [{\"colorbar\": {\"outlinewidth\": 0, \"ticks\": \"\"}, \"colorscale\": [[0.0, \"#0d0887\"], [0.1111111111111111, \"#46039f\"], [0.2222222222222222, \"#7201a8\"], [0.3333333333333333, \"#9c179e\"], [0.4444444444444444, \"#bd3786\"], [0.5555555555555556, \"#d8576b\"], [0.6666666666666666, \"#ed7953\"], [0.7777777777777778, \"#fb9f3a\"], [0.8888888888888888, \"#fdca26\"], [1.0, \"#f0f921\"]], \"type\": \"histogram2dcontour\"}], \"mesh3d\": [{\"colorbar\": {\"outlinewidth\": 0, \"ticks\": \"\"}, \"type\": \"mesh3d\"}], \"parcoords\": [{\"line\": {\"colorbar\": {\"outlinewidth\": 0, \"ticks\": \"\"}}, \"type\": \"parcoords\"}], \"scatter\": [{\"marker\": {\"colorbar\": {\"outlinewidth\": 0, \"ticks\": \"\"}}, \"type\": \"scatter\"}], \"scatter3d\": [{\"line\": {\"colorbar\": {\"outlinewidth\": 0, \"ticks\": \"\"}}, \"marker\": {\"colorbar\": {\"outlinewidth\": 0, \"ticks\": \"\"}}, \"type\": \"scatter3d\"}], \"scattercarpet\": [{\"marker\": {\"colorbar\": {\"outlinewidth\": 0, \"ticks\": \"\"}}, \"type\": \"scattercarpet\"}], \"scattergeo\": [{\"marker\": {\"colorbar\": {\"outlinewidth\": 0, \"ticks\": \"\"}}, \"type\": \"scattergeo\"}], \"scattergl\": [{\"marker\": {\"colorbar\": {\"outlinewidth\": 0, \"ticks\": \"\"}}, \"type\": \"scattergl\"}], \"scattermapbox\": [{\"marker\": {\"colorbar\": {\"outlinewidth\": 0, \"ticks\": \"\"}}, \"type\": \"scattermapbox\"}], \"scatterpolar\": [{\"marker\": {\"colorbar\": {\"outlinewidth\": 0, \"ticks\": \"\"}}, \"type\": \"scatterpolar\"}], \"scatterpolargl\": [{\"marker\": {\"colorbar\": {\"outlinewidth\": 0, \"ticks\": \"\"}}, \"type\": \"scatterpolargl\"}], \"scatterternary\": [{\"marker\": {\"colorbar\": {\"outlinewidth\": 0, \"ticks\": \"\"}}, \"type\": \"scatterternary\"}], \"surface\": [{\"colorbar\": {\"outlinewidth\": 0, \"ticks\": \"\"}, \"colorscale\": [[0.0, \"#0d0887\"], [0.1111111111111111, \"#46039f\"], [0.2222222222222222, \"#7201a8\"], [0.3333333333333333, \"#9c179e\"], [0.4444444444444444, \"#bd3786\"], [0.5555555555555556, \"#d8576b\"], [0.6666666666666666, \"#ed7953\"], [0.7777777777777778, \"#fb9f3a\"], [0.8888888888888888, \"#fdca26\"], [1.0, \"#f0f921\"]], \"type\": \"surface\"}], \"table\": [{\"cells\": {\"fill\": {\"color\": \"#EBF0F8\"}, \"line\": {\"color\": \"white\"}}, \"header\": {\"fill\": {\"color\": \"#C8D4E3\"}, \"line\": {\"color\": \"white\"}}, \"type\": \"table\"}]}, \"layout\": {\"annotationdefaults\": {\"arrowcolor\": \"#2a3f5f\", \"arrowhead\": 0, \"arrowwidth\": 1}, \"colorscale\": {\"diverging\": [[0, \"#8e0152\"], [0.1, \"#c51b7d\"], [0.2, \"#de77ae\"], [0.3, \"#f1b6da\"], [0.4, \"#fde0ef\"], [0.5, \"#f7f7f7\"], [0.6, \"#e6f5d0\"], [0.7, \"#b8e186\"], [0.8, \"#7fbc41\"], [0.9, \"#4d9221\"], [1, \"#276419\"]], \"sequential\": [[0.0, \"#0d0887\"], [0.1111111111111111, \"#46039f\"], [0.2222222222222222, \"#7201a8\"], [0.3333333333333333, \"#9c179e\"], [0.4444444444444444, \"#bd3786\"], [0.5555555555555556, \"#d8576b\"], [0.6666666666666666, \"#ed7953\"], [0.7777777777777778, \"#fb9f3a\"], [0.8888888888888888, \"#fdca26\"], [1.0, \"#f0f921\"]], \"sequentialminus\": [[0.0, \"#0d0887\"], [0.1111111111111111, \"#46039f\"], [0.2222222222222222, \"#7201a8\"], [0.3333333333333333, \"#9c179e\"], [0.4444444444444444, \"#bd3786\"], [0.5555555555555556, \"#d8576b\"], [0.6666666666666666, \"#ed7953\"], [0.7777777777777778, \"#fb9f3a\"], [0.8888888888888888, \"#fdca26\"], [1.0, \"#f0f921\"]]}, \"colorway\": [\"#636efa\", \"#EF553B\", \"#00cc96\", \"#ab63fa\", \"#FFA15A\", \"#19d3f3\", \"#FF6692\", \"#B6E880\", \"#FF97FF\", \"#FECB52\"], \"font\": {\"color\": \"#2a3f5f\"}, \"geo\": {\"bgcolor\": \"white\", \"lakecolor\": \"white\", \"landcolor\": \"#E5ECF6\", \"showlakes\": true, \"showland\": true, \"subunitcolor\": \"white\"}, \"hoverlabel\": {\"align\": \"left\"}, \"hovermode\": \"closest\", \"mapbox\": {\"style\": \"light\"}, \"paper_bgcolor\": \"white\", \"plot_bgcolor\": \"#E5ECF6\", \"polar\": {\"angularaxis\": {\"gridcolor\": \"white\", \"linecolor\": \"white\", \"ticks\": \"\"}, \"bgcolor\": \"#E5ECF6\", \"radialaxis\": {\"gridcolor\": \"white\", \"linecolor\": \"white\", \"ticks\": \"\"}}, \"scene\": {\"xaxis\": {\"backgroundcolor\": \"#E5ECF6\", \"gridcolor\": \"white\", \"gridwidth\": 2, \"linecolor\": \"white\", \"showbackground\": true, \"ticks\": \"\", \"zerolinecolor\": \"white\"}, \"yaxis\": {\"backgroundcolor\": \"#E5ECF6\", \"gridcolor\": \"white\", \"gridwidth\": 2, \"linecolor\": \"white\", \"showbackground\": true, \"ticks\": \"\", \"zerolinecolor\": \"white\"}, \"zaxis\": {\"backgroundcolor\": \"#E5ECF6\", \"gridcolor\": \"white\", \"gridwidth\": 2, \"linecolor\": \"white\", \"showbackground\": true, \"ticks\": \"\", \"zerolinecolor\": \"white\"}}, \"shapedefaults\": {\"line\": {\"color\": \"#2a3f5f\"}}, \"ternary\": {\"aaxis\": {\"gridcolor\": \"white\", \"linecolor\": \"white\", \"ticks\": \"\"}, \"baxis\": {\"gridcolor\": \"white\", \"linecolor\": \"white\", \"ticks\": \"\"}, \"bgcolor\": \"#E5ECF6\", \"caxis\": {\"gridcolor\": \"white\", \"linecolor\": \"white\", \"ticks\": \"\"}}, \"title\": {\"x\": 0.05}, \"xaxis\": {\"automargin\": true, \"gridcolor\": \"white\", \"linecolor\": \"white\", \"ticks\": \"\", \"zerolinecolor\": \"white\", \"zerolinewidth\": 2}, \"yaxis\": {\"automargin\": true, \"gridcolor\": \"white\", \"linecolor\": \"white\", \"ticks\": \"\", \"zerolinecolor\": \"white\", \"zerolinewidth\": 2}}}, \"title\": {\"text\": \"GDP Mundo 2019\"}},\n",
       "                        {\"responsive\": true}\n",
       "                    ).then(function(){\n",
       "                            \n",
       "var gd = document.getElementById('dc93ac66-0323-48bd-ab1a-cbf33f2b8935');\n",
       "var x = new MutationObserver(function (mutations, observer) {{\n",
       "        var display = window.getComputedStyle(gd).display;\n",
       "        if (!display || display === 'none') {{\n",
       "            console.log([gd, 'removed!']);\n",
       "            Plotly.purge(gd);\n",
       "            observer.disconnect();\n",
       "        }}\n",
       "}});\n",
       "\n",
       "// Listen for the removal of the full notebook cells\n",
       "var notebookContainer = gd.closest('#notebook-container');\n",
       "if (notebookContainer) {{\n",
       "    x.observe(notebookContainer, {childList: true});\n",
       "}}\n",
       "\n",
       "// Listen for the clearing of the current output cell\n",
       "var outputEl = gd.closest('.output');\n",
       "if (outputEl) {{\n",
       "    x.observe(outputEl, {childList: true});\n",
       "}}\n",
       "\n",
       "                        })\n",
       "                };\n",
       "                });\n",
       "            </script>\n",
       "        </div>"
      ]
     },
     "metadata": {},
     "output_type": "display_data"
    }
   ],
   "source": [
    "iplot(cmap)"
   ]
  },
  {
   "cell_type": "code",
   "execution_count": null,
   "metadata": {},
   "outputs": [],
   "source": []
  }
 ],
 "metadata": {
  "kernelspec": {
   "display_name": "Python 3",
   "language": "python",
   "name": "python3"
  },
  "language_info": {
   "codemirror_mode": {
    "name": "ipython",
    "version": 3
   },
   "file_extension": ".py",
   "mimetype": "text/x-python",
   "name": "python",
   "nbconvert_exporter": "python",
   "pygments_lexer": "ipython3",
   "version": "3.9.0"
  }
 },
 "nbformat": 4,
 "nbformat_minor": 4
}
