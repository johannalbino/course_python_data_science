{
 "cells": [
  {
   "cell_type": "markdown",
   "metadata": {},
   "source": [
    "# Introdução ao Machine Learning\n",
    "\n",
    "\n",
    "* Machine Learning é um método de analise de dados que automatiza o processo de criação de modelos.\n",
    "* Usando algoritmos que iterativamente aprendem dos dados, Machine Learning permite que computadores encontrem padrões escondidos nos dados sem terem sido programados para isso.\n",
    "\n",
    "\n",
    "#### Para que é usado?\n",
    "\n",
    "* Detecção de fraudes;\n",
    "* Pesquisas na Web;\n",
    "* Anúncios automáticos na internet;\n",
    "* Predição de falhas em equipamentos;\n",
    "* Modelos de precificação de ativos financeiros;\n",
    "* Detecção de invasores em redes;\n",
    "* Sistemas de recomendação (Netflix, Spotify);\n",
    "* Segmentação de clientes;\n",
    "* Analise de sentimentos em textos;\n",
    "* Reconhecimento de padrões em imagens;\n",
    "* Filtro de spams em e-mails;\n",
    "* etc...\n",
    "\n",
    "\n",
    "Existem 3 tipos de algoritmos de Machine Learning:\n",
    "\n",
    "* Supervised Learning (Aprendizado supervisionado):\n",
    "    \n",
    "    * Você tem parâmetros rotulados que são usados para construir o modelo e tentar predizer os demais rótulos, baseados nos parâmetros apenas.\n",
    "    \n",
    "\n",
    "* Unsupervised Learning (Aprendizado sem supervisão):\n",
    "    \n",
    "    * Você possui apenas os parâmetros, sem rotulos, e quer encontrar subgrupos dentro dos dados que possuam algum tipo de semelhança.\n",
    "    \n",
    "    \n",
    "* Reinforcement Learning (Aprendizado por reforço):\n",
    "\n",
    "    * Algoritmo que aprendem a executar ações baseados em experiências do mesmo com algum meio.\n",
    "    \n"
   ]
  },
  {
   "cell_type": "markdown",
   "metadata": {},
   "source": [
    "### Supervised Learning\n",
    "\n",
    "* Você tem parâmetros rotulados que são usados para construir o modelo e tentar predizer os demais rótulos, baseados nos parâmetros apenas.\n",
    "\n",
    "\n",
    "* Por exemplo: você tem características técnicas de peças de equipamentos que falharam \"F\" e não falharam \"NF\", e quer predizer o comportamento das demais peças.\n",
    "\n",
    "* O algoritmo de aprendizado recebe entradas com as saídas corretas e ajusta o seu modelo de forma iterativa para que o mesmo se adapte as condições apresentadas no conjunto de dados de treino.\n",
    "\n",
    "* Então, o algoritmo irá conferir a precisão do modelo criado usando o conjunto de dados de teste.\n"
   ]
  },
  {
   "cell_type": "markdown",
   "metadata": {},
   "source": [
    "### Unsupervised Learning\n",
    "\n",
    "* Unsupervised Learning é usado quando os dados não possuem classificações prévias\n",
    "\n",
    "* A resposta correta não é dita ao algoritmo, cabendo a ele encontrar padrões nos dados e agrupá-los/classifica-los baseados similaridades no conjunto de parâmetros.\n",
    "\n",
    "* Técnicas populares incluem mapas auto-organizáveis, k-means clustering e singular value decomposition;\n",
    "\n",
    "* Estes algoritmos também são usados para segmentar texto em tópicos, identificação de outliers em conjunto de dados e recomendação de itens à clientes."
   ]
  },
  {
   "cell_type": "markdown",
   "metadata": {},
   "source": [
    "### Reinforcement Learning\n",
    "\n",
    "* Este algoritmo é usado principalemnte em robótica, jogos e navegação.\n",
    "\n",
    "* Através deste método, o algoritmo aprende através de tentativa e erro quais pares de estado-ação obtém a maior recompensa no longo prazo.\n",
    "\n",
    "* O objetivo do agente é escolher ações que maximizem a recompensa esperada dada uma determinada quantidade de tempo;\n",
    "\n",
    "* O agente irá, dessa forma, criar uma política de tomada de decisões, baseada no seu atual estado.\n",
    "\n"
   ]
  }
 ],
 "metadata": {
  "kernelspec": {
   "display_name": "Python 3",
   "language": "python",
   "name": "python3"
  },
  "language_info": {
   "codemirror_mode": {
    "name": "ipython",
    "version": 3
   },
   "file_extension": ".py",
   "mimetype": "text/x-python",
   "name": "python",
   "nbconvert_exporter": "python",
   "pygments_lexer": "ipython3",
   "version": "3.9.0"
  }
 },
 "nbformat": 4,
 "nbformat_minor": 4
}
