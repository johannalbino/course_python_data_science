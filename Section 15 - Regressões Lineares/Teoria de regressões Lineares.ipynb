{
 "cells": [
  {
   "cell_type": "markdown",
   "metadata": {},
   "source": [
    "# Regressões lineares\n",
    "\n",
    "\n",
    "* Criada de uma pesquisa de Francis Galton, no século XIX. Galton estudava a relação entre a altura dos pais e seus filhos.\n",
    "* Ele descobriu que a altura do filho tende a ser semelhante a altura do pai.\n",
    "* Entretanto, Galton também notou que a altura do filho tenderá a ficar próxima a média das alturas da população.\n"
   ]
  }
 ],
 "metadata": {
  "kernelspec": {
   "display_name": "Python 3",
   "language": "python",
   "name": "python3"
  },
  "language_info": {
   "codemirror_mode": {
    "name": "ipython",
    "version": 3
   },
   "file_extension": ".py",
   "mimetype": "text/x-python",
   "name": "python",
   "nbconvert_exporter": "python",
   "pygments_lexer": "ipython3",
   "version": "3.9.0"
  }
 },
 "nbformat": 4,
 "nbformat_minor": 4
}
