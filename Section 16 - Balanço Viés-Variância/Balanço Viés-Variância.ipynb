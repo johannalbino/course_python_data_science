{
 "cells": [
  {
   "cell_type": "markdown",
   "metadata": {},
   "source": [
    "# Balanço Viés-Variância\n",
    "\n",
    "* O balanço viés-variância (bias-variance) é um tópico fundamental para entender a performance do seu modelo.\n",
    "\n",
    "* O Balanço Viés-variância é quem determina o ponto em que estamos apenas adicionando ruído ao nosso modelo a medida que adicionamos complexidade à ele.\n",
    "\n",
    "* O erro nos dados de treino começa a cair a medida em que o erro nos dados de teste aumenta.\n",
    "\n",
    "* O efeito conhecido como \"overfitting\" ocorre.\n",
    "\n"
   ]
  }
 ],
 "metadata": {
  "kernelspec": {
   "display_name": "Python 3",
   "language": "python",
   "name": "python3"
  },
  "language_info": {
   "codemirror_mode": {
    "name": "ipython",
    "version": 3
   },
   "file_extension": ".py",
   "mimetype": "text/x-python",
   "name": "python",
   "nbconvert_exporter": "python",
   "pygments_lexer": "ipython3",
   "version": "3.9.0"
  }
 },
 "nbformat": 4,
 "nbformat_minor": 4
}
