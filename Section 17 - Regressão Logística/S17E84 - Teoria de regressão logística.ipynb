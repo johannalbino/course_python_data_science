{
 "cells": [
  {
   "cell_type": "markdown",
   "metadata": {},
   "source": [
    "# Regressão Logística\n",
    "\n",
    "\n",
    "* Aprendemos sobre regressão logística como um método de classificação;\n",
    "\n",
    "* Alguns exemplos de problemas de classificação:\n",
    "    * Filtros de e-mails (spams ou não)\n",
    "    * Modelos preditores de clientes inadimplentes;\n",
    "    * Diagnósticos de doenças;\n",
    "\n",
    "* Até agora trabalhamos com problemas onde tentamos prever valores contínuos;\n",
    "\n",
    "* Apesar do nome ser relativamente confuso, regressão logística nos permite resolver problemas de classificação onde estamos tentando predizer categorias discretas;\n",
    "\n",
    "* Por convenção, classificações binárias terão duas classes: 0 e 1;\n",
    "\n",
    "* É difícil utilizar regressão linear para isso, uma vez que a mesma permitiria probabilidades acima de 100% (ou abaixo de 0%);\n",
    "\n",
    "* Ao inves, podemos utilizar uma curva de regressão logística;\n",
    "\n",
    "* A função logística (também conhecida por sigmoide) só retorna valores entre 0 e 1;\n",
    "\n",
    "* Isso significa que podemos pegar nossa regressão liner e colocá-la dentro da função logística;\n",
    "\n",
    "* Os valores de saída da sigmoide são interpretados como a probabilidade da classe ser 0 ou 1;\n",
    "\n",
    "* Após treinarmos um modelo de regressão logística, testamos o mesmo em um conjunto e dados de teste. Porém, as métricas de avaliação de desempenho do modelo serão diferente das vistas anteriormente;\n",
    "\n",
    "* A principal forma de avalia-lo é utilizando uma **matriz de confusão**;\n"
   ]
  },
  {
   "cell_type": "code",
   "execution_count": null,
   "metadata": {},
   "outputs": [],
   "source": []
  }
 ],
 "metadata": {
  "kernelspec": {
   "display_name": "Python 3",
   "language": "python",
   "name": "python3"
  },
  "language_info": {
   "codemirror_mode": {
    "name": "ipython",
    "version": 3
   },
   "file_extension": ".py",
   "mimetype": "text/x-python",
   "name": "python",
   "nbconvert_exporter": "python",
   "pygments_lexer": "ipython3",
   "version": "3.9.0"
  }
 },
 "nbformat": 4,
 "nbformat_minor": 4
}
