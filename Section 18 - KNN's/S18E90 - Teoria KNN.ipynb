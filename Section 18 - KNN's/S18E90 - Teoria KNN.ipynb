{
 "cells": [
  {
   "cell_type": "markdown",
   "metadata": {},
   "source": [
    "# K Neares Neighbors (KNN)\n",
    "\n",
    "\n",
    "* KNN é um algoritmo de classificação de dados que opera de forma muito simples;\n",
    "\n",
    "\n",
    "* Pros:\n",
    "    * Muito simples\n",
    "    * Processo de treino é trivial\n",
    "    * Funciona muito bem com grande número de classes\n",
    "    * Fácil de se adicionar mais dados\n",
    "    * Poucos Parâmetros\n",
    "    \n",
    "* Contras:\n",
    "    * Elevado custo computacional para predição (pior para grandes conjuntos de dados)\n",
    "    * Não muito bom em dados com múltiplas dimensões (muitos parâmetros)\n",
    "    * Parâmetros categóricos não funcionam muito bem\n",
    "    \n"
   ]
  }
 ],
 "metadata": {
  "kernelspec": {
   "display_name": "Python 3",
   "language": "python",
   "name": "python3"
  },
  "language_info": {
   "codemirror_mode": {
    "name": "ipython",
    "version": 3
   },
   "file_extension": ".py",
   "mimetype": "text/x-python",
   "name": "python",
   "nbconvert_exporter": "python",
   "pygments_lexer": "ipython3",
   "version": "3.9.0"
  }
 },
 "nbformat": 4,
 "nbformat_minor": 4
}
