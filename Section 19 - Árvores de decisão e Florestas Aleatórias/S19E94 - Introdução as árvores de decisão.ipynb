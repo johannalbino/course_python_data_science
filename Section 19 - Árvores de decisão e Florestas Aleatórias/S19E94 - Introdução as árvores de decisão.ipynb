{
 "cells": [
  {
   "cell_type": "markdown",
   "metadata": {},
   "source": [
    "# Árvores de decisão\n",
    "\n",
    "* Imagine que que eu sempre jogo tênis aos sábados e convido um amigo para vir comigo.\n",
    "* As vezes ele vem, as vezes não.\n",
    "* Para ele, ir ao jogo depende de uma série de fatores: clima, temperatura, umidade, vento, etc.\n",
    "* Eu começo a tomar nota dos dias em que o mesmo aparece e como tais variáveis estão.\n",
    "* Para saber se ele vai ou não, uma forma intuitiva de se fazer isso é criar uma árvore de decisão.\n",
    "\n",
    "* Entropia e ganho de informação são as bases matemáticas para escoher a melhor divisão.\n",
    "* O algoritmo fará a divisão sempre na classe que apresentar o maior \"ganho de informação\".\n",
    "\n",
    "* Podemos criar árvores usando divisões diferentes do conjunto de dados.\n",
    "* Para melhorar o desempenho das árvores de decisão, podemos também usar amostragens aleatórias de escolhas de parâmetros para divisão:\n",
    "    * Um novo conjunto de parâmetros é escolhido aleatoriamente para cada árvore a cada divisão da mesma.\n",
    "    * O algoritmo escolhe 1 dentre \"m\" parâmetros.\n",
    "    * Para classificação, normalmente usamos \"m\" como a raiz de \"p\".\n",
    "\n",
    "\n",
    "* Qual o ponto?\n",
    "    * Supondo que exista um parâmetro muito forte. Quando usamos o processo normal de construção de árvores, a maioria das árvores usarão o mesmo parâmetro como raiz, o que resultara em árvores muito correlacionadas.\n",
    "    * Tornando o processo de escolha de nós estocástico, nossas florestas aletórias será descorrelacionadas e isso resultará na redução da variância do modelo."
   ]
  },
  {
   "cell_type": "code",
   "execution_count": null,
   "metadata": {},
   "outputs": [],
   "source": []
  }
 ],
 "metadata": {
  "kernelspec": {
   "display_name": "Python 3",
   "language": "python",
   "name": "python3"
  },
  "language_info": {
   "codemirror_mode": {
    "name": "ipython",
    "version": 3
   },
   "file_extension": ".py",
   "mimetype": "text/x-python",
   "name": "python",
   "nbconvert_exporter": "python",
   "pygments_lexer": "ipython3",
   "version": "3.9.0"
  }
 },
 "nbformat": 4,
 "nbformat_minor": 4
}
