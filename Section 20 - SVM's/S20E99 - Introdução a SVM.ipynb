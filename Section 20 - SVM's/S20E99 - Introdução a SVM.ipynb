{
 "cells": [
  {
   "cell_type": "markdown",
   "metadata": {},
   "source": [
    "# Support Vector Machines (SVMs)\n",
    "\n",
    "\n",
    "* São métodos de Machine Learning baseados em aprendizado supervisionado que analisam os dados e reconhece padrões, usados para classificação e regressão.\n",
    "\n",
    "* Dado um conjunto de dados de treino, cada um marcado com uma classe pertencendo a uma categoria, SVM cria um modelo que assimila novos exemplos em uma das categorias, fazendo uso de um classificador não probabilistico.\n",
    "\n",
    "* Um modelo SVM é uma representação dos exemplos como pontos no espaço, mapeados de forma que as categorias são divididas com a maior distância possível entre elas.\n",
    "\n",
    "* Novos exemplos são mapeados de acordo com a zona em que caírem.\n",
    "\n"
   ]
  },
  {
   "cell_type": "code",
   "execution_count": null,
   "metadata": {},
   "outputs": [],
   "source": []
  }
 ],
 "metadata": {
  "kernelspec": {
   "display_name": "Python 3",
   "language": "python",
   "name": "python3"
  },
  "language_info": {
   "codemirror_mode": {
    "name": "ipython",
    "version": 3
   },
   "file_extension": ".py",
   "mimetype": "text/x-python",
   "name": "python",
   "nbconvert_exporter": "python",
   "pygments_lexer": "ipython3",
   "version": "3.9.0"
  }
 },
 "nbformat": 4,
 "nbformat_minor": 4
}
