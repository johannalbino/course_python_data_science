{
 "cells": [
  {
   "cell_type": "markdown",
   "metadata": {},
   "source": [
    "# K Means Clustering \n",
    "\n",
    "* K Means Clustering é um método de Machine Learning baseado em aprendizado não supervisionado que tentará agrupar seus dados em grupos baseados em características similares.\n",
    "\n",
    "* São usados para:\n",
    "    * Agrupamento automático de documentos.\n",
    "    * Agrupamento de clientes\n",
    "    * Segmentação de mercado\n",
    "    * Geoestatística\n",
    "    \n",
    "* O objeto é dividir os dados em K grupos distintos baseados nos parâmetros.\n",
    "* O algoritmo:\n",
    "    * Escolher um número K de grupos (clusters)\n",
    "    * Aleatoriamente definir uma classe para todos os pontos\n",
    "    * Até os clusters pararem de mudar, faça:\n",
    "        * Para cada cluster, obtenha o centróide do mesmo calculando a média dos vetores dos pontos do cluster;\n",
    "        * Defina cada ponto ao cluster na qual o centróide é o mais próximo;\n",
    "* Não existe um resposta fácil para escolher o melhor valor para K\n",
    "* Uma forma é o método do cotovelo;"
   ]
  },
  {
   "cell_type": "code",
   "execution_count": null,
   "metadata": {},
   "outputs": [],
   "source": [
    "    "
   ]
  }
 ],
 "metadata": {
  "kernelspec": {
   "display_name": "Python 3",
   "language": "python",
   "name": "python3"
  },
  "language_info": {
   "codemirror_mode": {
    "name": "ipython",
    "version": 3
   },
   "file_extension": ".py",
   "mimetype": "text/x-python",
   "name": "python",
   "nbconvert_exporter": "python",
   "pygments_lexer": "ipython3",
   "version": "3.9.0"
  }
 },
 "nbformat": 4,
 "nbformat_minor": 4
}
