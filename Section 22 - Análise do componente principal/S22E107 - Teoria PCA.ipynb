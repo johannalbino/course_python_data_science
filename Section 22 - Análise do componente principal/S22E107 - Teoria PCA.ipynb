{
 "cells": [
  {
   "cell_type": "markdown",
   "metadata": {},
   "source": [
    "# Análise do componente principal (PCA)\n",
    "\n",
    "\n",
    "* Vamos discutir as ideias básicas por trás do PCA.\n",
    "* É um método não supervisionado estatístico, usado para examinar relações entre um conjunto de variáveis, com objetivo de identificar uma estrutura básica por trás das mesmas.\n",
    "* Também é conhecido como análise de fatores.\n",
    "* Enquanto uma regressão determina a linha que melhor se ajusta ao conjunto de dados, PCA determina o melhor conjunto ortogonal de linhas para ajustar nosso model.\n",
    "* Ortogonal significa \"perpendicular\". Estamos procurando então por linhas perpendiculares no n-dimensional\n",
    "* Espaço n-dimensional é o espaço vetorial do grupo de parâmetros:\n",
    "    * Existirão tantas dimensões neste espaço vetorial quanto parâmetros no seu conjunto de dados. Assim, um conjunto com 4 variáveis terá 4 dimensões.\n",
    "\n",
    "* Os componentes são transformações lineares dos parâmetros iniciais, de forma quue a maiorr variância no conjunto de dados apareça no primeiro eixo, a segunda maior variância no segundo eixo, etc...\n",
    "* Isso nos permite reduzir o número de variáveis usadas em nossa análise.\n",
    "* Se usarmos essa técnica em um conjunto de dados com um número muito de variáveis, podemos comprimir a variância explicada para apenas alguns componentes.\n",
    "* A parte mais difícil no PCA é interpretar os componentes.\n",
    "* Normalmente padronizar os dados para o PCA performar melhor."
   ]
  },
  {
   "cell_type": "code",
   "execution_count": null,
   "metadata": {},
   "outputs": [],
   "source": []
  }
 ],
 "metadata": {
  "kernelspec": {
   "display_name": "Python 3",
   "language": "python",
   "name": "python3"
  },
  "language_info": {
   "codemirror_mode": {
    "name": "ipython",
    "version": 3
   },
   "file_extension": ".py",
   "mimetype": "text/x-python",
   "name": "python",
   "nbconvert_exporter": "python",
   "pygments_lexer": "ipython3",
   "version": "3.9.0"
  }
 },
 "nbformat": 4,
 "nbformat_minor": 4
}
