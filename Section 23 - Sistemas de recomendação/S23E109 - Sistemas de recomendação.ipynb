{
 "cells": [
  {
   "cell_type": "markdown",
   "metadata": {},
   "source": [
    "# Sistemas de recomendação\n",
    "\n",
    "Fonte: https://www.ibm.com/developerworks/br/local/data/sistemas_recomendacao/index.html\n",
    "\n",
    "* Um sistema completo de recomendação é extremamente complexo e dependente de dados.\n",
    "* Como sistemas completos de recomendação exigem um conhecimento avançado de álgebra linear, o segundo notebook é trazido apenas como recurso opcional.\n",
    "* Você deve apenas olhá-lo se sentir-se confortável com níveis avançados de álgebra linear.\n",
    "* Os dois tipos mais comuns de sistemas de recomendação são **conteúdo-dependente e filtragem colaborativa**:\n",
    "    * Filtragem colaborativa produz recomendações baseadas no conhecimento das atitudes em relação aos itens. Tal método usa o \"conhecimento da massa\" para recomendar itens.\n",
    "    * Sistemas baseados em conteúdo são sistemas que focam nos atributos dos itens e dão recomendações baseadas nas similaridades dos mesmos.\n",
    "\n",
    "* No geral, filtragem colaborativa é mais comumente usado do que o conteúdo-dependente porque o primeiro consegue melhores resultados e é mais fácil de enteder.\n",
    "* O algoritmo também tem a capacidade de aprender por si só, o que significa que pode começar a aprender quais parãmetros usar.\n",
    "* Filtragem colaborativa pode ser didivda em: **filtragem colaborativa por memória e filtragem colaborativa por modelo**"
   ]
  },
  {
   "cell_type": "code",
   "execution_count": null,
   "metadata": {},
   "outputs": [],
   "source": []
  }
 ],
 "metadata": {
  "kernelspec": {
   "display_name": "Python 3",
   "language": "python",
   "name": "python3"
  },
  "language_info": {
   "codemirror_mode": {
    "name": "ipython",
    "version": 3
   },
   "file_extension": ".py",
   "mimetype": "text/x-python",
   "name": "python",
   "nbconvert_exporter": "python",
   "pygments_lexer": "ipython3",
   "version": "3.9.0"
  }
 },
 "nbformat": 4,
 "nbformat_minor": 4
}
