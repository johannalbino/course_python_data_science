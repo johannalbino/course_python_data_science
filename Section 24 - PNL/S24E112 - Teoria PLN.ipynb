{
 "cells": [
  {
   "cell_type": "markdown",
   "metadata": {},
   "source": [
    "# Processamento de linguagem natural\n",
    "\n",
    "* Imagine que você trabalha para o Google News e quer agrupar novas noticias por tópicos.\n",
    "* Ou imagine que você trabalha para um escritório de advocacia e precisa pesqusiar por centenas de páginas de documentos para encontrar os mais relevantes.\n",
    "* E aí que PLN pode te ajudar.\n",
    "\n",
    "* Teremos por objetivo:\n",
    "    * Compilar os documentos\n",
    "    * Categorizá-los\n",
    "    * Comparar seus parâmetros\n"
   ]
  },
  {
   "cell_type": "code",
   "execution_count": null,
   "metadata": {},
   "outputs": [],
   "source": []
  }
 ],
 "metadata": {
  "kernelspec": {
   "display_name": "Python 3",
   "language": "python",
   "name": "python3"
  },
  "language_info": {
   "codemirror_mode": {
    "name": "ipython",
    "version": 3
   },
   "file_extension": ".py",
   "mimetype": "text/x-python",
   "name": "python",
   "nbconvert_exporter": "python",
   "pygments_lexer": "ipython3",
   "version": "3.9.0"
  }
 },
 "nbformat": 4,
 "nbformat_minor": 4
}
