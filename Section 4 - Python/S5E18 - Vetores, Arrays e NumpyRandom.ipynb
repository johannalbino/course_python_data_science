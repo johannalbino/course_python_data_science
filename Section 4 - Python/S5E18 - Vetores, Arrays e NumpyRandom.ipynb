{
 "cells": [
  {
   "cell_type": "markdown",
   "metadata": {},
   "source": [
    "# Array\n",
    "\n",
    "* Funciona para criar arrays de uma ou várias dimensões"
   ]
  },
  {
   "cell_type": "code",
   "execution_count": 8,
   "metadata": {},
   "outputs": [
    {
     "name": "stdout",
     "output_type": "stream",
     "text": [
      "[1, 2, 3]\n"
     ]
    }
   ],
   "source": [
    "import numpy as np\n",
    "\n",
    "minha_lista = [1, 2, 3]\n",
    "\n",
    "print(minha_lista)"
   ]
  },
  {
   "cell_type": "code",
   "execution_count": 9,
   "metadata": {},
   "outputs": [
    {
     "data": {
      "text/plain": [
       "array([[1, 2, 3],\n",
       "       [4, 5, 6],\n",
       "       [7, 8, 9]])"
      ]
     },
     "execution_count": 9,
     "metadata": {},
     "output_type": "execute_result"
    }
   ],
   "source": [
    "import numpy as npz\n",
    "minha_lista = [1, 2, 3]\n",
    "\n",
    "np.array(minha_lista) #Array de uma dimensão\n",
    "\n",
    "minha_matriz = [[1, 2, 3], [4, 5, 6], [7, 8, 9]]\n",
    "\n",
    "np.array(minha_matriz)  #Array de três dimensões"
   ]
  },
  {
   "cell_type": "markdown",
   "metadata": {},
   "source": [
    "# Arange\n",
    "\n",
    "* Funciona como o metodo range utilizado para criar uma sequência de número, mas neste casa cria um array"
   ]
  },
  {
   "cell_type": "code",
   "execution_count": 12,
   "metadata": {},
   "outputs": [
    {
     "name": "stdout",
     "output_type": "stream",
     "text": [
      "[0 1 2 3 4 5 6 7 8 9]\n",
      "[0 2 4 6 8]\n"
     ]
    }
   ],
   "source": [
    "import numpy as np\n",
    "\n",
    "print(np.arange(0, 10))\n",
    "\n",
    "print(np.arange(0, 10, 2))"
   ]
  },
  {
   "cell_type": "markdown",
   "metadata": {},
   "source": [
    "# Zeros\n",
    "\n",
    "* Criar um array com números zeros"
   ]
  },
  {
   "cell_type": "code",
   "execution_count": 17,
   "metadata": {},
   "outputs": [
    {
     "name": "stdout",
     "output_type": "stream",
     "text": [
      "[0. 0. 0.]\n",
      "[[0. 0. 0. 0. 0.]\n",
      " [0. 0. 0. 0. 0.]\n",
      " [0. 0. 0. 0. 0.]\n",
      " [0. 0. 0. 0. 0.]\n",
      " [0. 0. 0. 0. 0.]]\n"
     ]
    }
   ],
   "source": [
    "import numpy as np\n",
    "\n",
    "\n",
    "print(np.zeros(3))\n",
    "\n",
    "print(np.zeros((5, 5)))"
   ]
  },
  {
   "cell_type": "markdown",
   "metadata": {},
   "source": [
    "# Ones\n",
    "* Criar um array com números um"
   ]
  },
  {
   "cell_type": "code",
   "execution_count": 19,
   "metadata": {},
   "outputs": [
    {
     "data": {
      "text/plain": [
       "array([[1., 1., 1.],\n",
       "       [1., 1., 1.],\n",
       "       [1., 1., 1.]])"
      ]
     },
     "execution_count": 19,
     "metadata": {},
     "output_type": "execute_result"
    }
   ],
   "source": [
    "np.ones((3, 3))"
   ]
  },
  {
   "cell_type": "markdown",
   "metadata": {},
   "source": [
    "# Eye\n",
    "\n",
    "* Criar uma matriz de identidade"
   ]
  },
  {
   "cell_type": "code",
   "execution_count": 20,
   "metadata": {},
   "outputs": [
    {
     "data": {
      "text/plain": [
       "array([[1., 0., 0., 0.],\n",
       "       [0., 1., 0., 0.],\n",
       "       [0., 0., 1., 0.],\n",
       "       [0., 0., 0., 1.]])"
      ]
     },
     "execution_count": 20,
     "metadata": {},
     "output_type": "execute_result"
    }
   ],
   "source": [
    "np.eye(4)"
   ]
  },
  {
   "cell_type": "markdown",
   "metadata": {},
   "source": [
    "# Linspace\n",
    "\n",
    "* Semelhante ao arange, a diferença é que:\n",
    "    * No arange a gente especifica o número inicial, final e o intervalo\n",
    "    * No linspace a gente especifica o inicio da serie, fim da serie, quantos número queremos ver igualmentes passados na serie"
   ]
  },
  {
   "cell_type": "code",
   "execution_count": 21,
   "metadata": {},
   "outputs": [
    {
     "name": "stdout",
     "output_type": "stream",
     "text": [
      "[ 0. 10.]\n",
      "[ 0.  5. 10.]\n"
     ]
    }
   ],
   "source": [
    "import numpy as np\n",
    "\n",
    "print(np.linspace(0, 10, 2))\n",
    "print(np.linspace(0, 10, 3))"
   ]
  },
  {
   "cell_type": "markdown",
   "metadata": {},
   "source": [
    "# Random\n",
    "* O random vai criar números aleatórios"
   ]
  },
  {
   "cell_type": "code",
   "execution_count": 27,
   "metadata": {},
   "outputs": [
    {
     "name": "stdout",
     "output_type": "stream",
     "text": [
      "[0.9665666  0.71118921 0.3727748  0.40355944 0.6625845 ]\n",
      "[22.26694733 44.18178549 59.79941491 68.791104   20.44208762]\n",
      "[[0.48099391 0.30538531 0.37496963 0.47713982]\n",
      " [0.07311213 0.74803656 0.06369161 0.74374413]\n",
      " [0.76412083 0.72395175 0.51061562 0.75441245]\n",
      " [0.14528685 0.94576583 0.3089821  0.93315844]\n",
      " [0.13348843 0.74458838 0.2728633  0.48363997]]\n",
      "[[[0.37453216 0.88066136 0.07051837]\n",
      "  [0.02211999 0.48996223 0.75619824]\n",
      "  [0.029588   0.04664943 0.9921959 ]\n",
      "  [0.56625201 0.58526927 0.51836017]]\n",
      "\n",
      " [[0.96418608 0.21719805 0.3916909 ]\n",
      "  [0.34741921 0.68541835 0.72966942]\n",
      "  [0.40009142 0.67499668 0.21685045]\n",
      "  [0.74808859 0.55123657 0.3036178 ]]\n",
      "\n",
      " [[0.59813809 0.30935111 0.09569822]\n",
      "  [0.85677483 0.65615117 0.10954992]\n",
      "  [0.01123788 0.05497499 0.72985233]\n",
      "  [0.42642386 0.66860833 0.50950134]]\n",
      "\n",
      " [[0.03819219 0.93494689 0.61643316]\n",
      "  [0.49670334 0.92828281 0.61410886]\n",
      "  [0.50890694 0.60161    0.23904332]\n",
      "  [0.92704262 0.93045673 0.10314262]]\n",
      "\n",
      " [[0.59588892 0.75904193 0.21477998]\n",
      "  [0.89751126 0.42880505 0.36313972]\n",
      "  [0.08215223 0.35619712 0.05948707]\n",
      "  [0.65006564 0.58588812 0.05368935]]]\n"
     ]
    }
   ],
   "source": [
    "import numpy as np\n",
    "\n",
    "print(np.random.rand(5)) #Apenas numeros entre 0 e 1\n",
    "print(np.random.rand(5) * 100) #Apenas numeros entre 0 e 100\n",
    "print(np.random.rand(5, 4)) #Criando matriz de números aleatorios entre 0 e 1, com 5 linhas e 4 colunas 5x4\n",
    "print(np.random.rand(5, 4, 3)) #Criando matriz de números aleatorios entre 0 e 1, com 5 linhas e 4 colunas 5x4 e 3 dimensões"
   ]
  },
  {
   "cell_type": "markdown",
   "metadata": {},
   "source": [
    "# Randn\n",
    "* Vai retornar números aleatorios, mas esses números não são tirados de uma distribuíção uniforma, são tirados de uma distribuição normal, média 0 induzindo padrão 1"
   ]
  },
  {
   "cell_type": "code",
   "execution_count": 29,
   "metadata": {},
   "outputs": [
    {
     "name": "stdout",
     "output_type": "stream",
     "text": [
      "[ 0.16836936  0.35784859 -0.64089434  0.87335079]\n"
     ]
    }
   ],
   "source": [
    "import numpy as np\n",
    "\n",
    "print(np.random.randn(4))"
   ]
  },
  {
   "cell_type": "code",
   "execution_count": 31,
   "metadata": {},
   "outputs": [
    {
     "name": "stdout",
     "output_type": "stream",
     "text": [
      "[83 35 22 63 59 51 65 45 66 76]\n"
     ]
    }
   ],
   "source": [
    "import numpy as np\n",
    "\n",
    "print(np.random.randint(0, 100, 10)) #números aleatorios inteiros"
   ]
  },
  {
   "cell_type": "code",
   "execution_count": 45,
   "metadata": {},
   "outputs": [
    {
     "name": "stdout",
     "output_type": "stream",
     "text": [
      "[0.72357063 0.28863947 0.13962528 0.30462237 0.45742955 0.58197299\n",
      " 0.28586956 0.23732918 0.82120932 0.41853336 0.32401622 0.39950994\n",
      " 0.8305673  0.218016   0.15071606 0.91165821 0.55245533 0.35386282\n",
      " 0.19317456 0.88667714 0.27427101 0.01677379 0.05372232 0.5443573\n",
      " 0.48672874]\n",
      "(25,)\n",
      "[[0.72357063 0.28863947 0.13962528 0.30462237 0.45742955]\n",
      " [0.58197299 0.28586956 0.23732918 0.82120932 0.41853336]\n",
      " [0.32401622 0.39950994 0.8305673  0.218016   0.15071606]\n",
      " [0.91165821 0.55245533 0.35386282 0.19317456 0.88667714]\n",
      " [0.27427101 0.01677379 0.05372232 0.5443573  0.48672874]]\n",
      "(5, 5)\n",
      "0.9116582110866687\n",
      "0.016773790206167538\n",
      "15\n",
      "21\n"
     ]
    }
   ],
   "source": [
    "import numpy as np\n",
    "\n",
    "arr = np.random.rand(25) #array de tamanho 25\n",
    "\n",
    "print(arr)\n",
    "\n",
    "print(arr.shape)\n",
    "\n",
    "arr = arr.reshape((5, 5)) #array de 5x5\n",
    "\n",
    "print(arr)\n",
    "\n",
    "print(arr.shape)\n",
    "\n",
    "print(arr.max()) #maior número do array\n",
    "print(arr.min()) #menor número do array\n",
    "print(arr.argmax()) #O indice do maior número do array\n",
    "print(arr.argmin()) #O indice do menor número do array"
   ]
  },
  {
   "cell_type": "code",
   "execution_count": null,
   "metadata": {},
   "outputs": [],
   "source": []
  }
 ],
 "metadata": {
  "kernelspec": {
   "display_name": "Python 3",
   "language": "python",
   "name": "python3"
  },
  "language_info": {
   "codemirror_mode": {
    "name": "ipython",
    "version": 3
   },
   "file_extension": ".py",
   "mimetype": "text/x-python",
   "name": "python",
   "nbconvert_exporter": "python",
   "pygments_lexer": "ipython3",
   "version": "3.7.4"
  }
 },
 "nbformat": 4,
 "nbformat_minor": 4
}
