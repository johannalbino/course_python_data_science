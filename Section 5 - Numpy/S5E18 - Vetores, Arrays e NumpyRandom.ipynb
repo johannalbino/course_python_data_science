{
 "cells": [
  {
   "cell_type": "markdown",
   "metadata": {},
   "source": [
    "# Array\n",
    "\n",
    "* Funciona para criar arrays de uma ou várias dimensões"
   ]
  },
  {
   "cell_type": "code",
   "execution_count": 1,
   "metadata": {},
   "outputs": [
    {
     "name": "stdout",
     "output_type": "stream",
     "text": [
      "[1, 2, 3]\n"
     ]
    }
   ],
   "source": [
    "import numpy as np\n",
    "\n",
    "minha_lista = [1, 2, 3]\n",
    "\n",
    "print(minha_lista)"
   ]
  },
  {
   "cell_type": "code",
   "execution_count": 3,
   "metadata": {},
   "outputs": [
    {
     "data": {
      "text/plain": [
       "array([1, 2, 3])"
      ]
     },
     "execution_count": 3,
     "metadata": {},
     "output_type": "execute_result"
    }
   ],
   "source": [
    "minha_lista = [1, 2, 3]\n",
    "\n",
    "np.array(minha_lista) #Array de uma dimensão"
   ]
  },
  {
   "cell_type": "code",
   "execution_count": 4,
   "metadata": {},
   "outputs": [
    {
     "data": {
      "text/plain": [
       "array([[1, 2, 3],\n",
       "       [4, 5, 6],\n",
       "       [7, 8, 9]])"
      ]
     },
     "execution_count": 4,
     "metadata": {},
     "output_type": "execute_result"
    }
   ],
   "source": [
    "minha_matriz = [[1, 2, 3], [4, 5, 6], [7, 8, 9]]\n",
    "\n",
    "np.array(minha_matriz)  #Array de três dimensões"
   ]
  },
  {
   "cell_type": "markdown",
   "metadata": {},
   "source": [
    "# Arange\n",
    "\n",
    "* Funciona como o metodo range utilizado para criar uma sequência de número, mas neste casa cria um array"
   ]
  },
  {
   "cell_type": "code",
   "execution_count": 5,
   "metadata": {},
   "outputs": [
    {
     "name": "stdout",
     "output_type": "stream",
     "text": [
      "[0 1 2 3 4 5 6 7 8 9]\n",
      "[0 2 4 6 8]\n"
     ]
    }
   ],
   "source": [
    "import numpy as np\n",
    "\n",
    "print(np.arange(0, 10))\n",
    "\n",
    "print(np.arange(0, 10, 2))"
   ]
  },
  {
   "cell_type": "markdown",
   "metadata": {},
   "source": [
    "# Zeros\n",
    "\n",
    "* Criar um array com números zeros"
   ]
  },
  {
   "cell_type": "code",
   "execution_count": 6,
   "metadata": {},
   "outputs": [
    {
     "name": "stdout",
     "output_type": "stream",
     "text": [
      "[0. 0. 0.]\n",
      "[[0. 0. 0. 0. 0.]\n",
      " [0. 0. 0. 0. 0.]\n",
      " [0. 0. 0. 0. 0.]\n",
      " [0. 0. 0. 0. 0.]\n",
      " [0. 0. 0. 0. 0.]]\n"
     ]
    }
   ],
   "source": [
    "import numpy as np\n",
    "\n",
    "\n",
    "print(np.zeros(3))\n",
    "\n",
    "print(np.zeros((5, 5)))"
   ]
  },
  {
   "cell_type": "markdown",
   "metadata": {},
   "source": [
    "# Ones\n",
    "* Criar um array com números um"
   ]
  },
  {
   "cell_type": "code",
   "execution_count": 7,
   "metadata": {},
   "outputs": [
    {
     "data": {
      "text/plain": [
       "array([[1., 1., 1.],\n",
       "       [1., 1., 1.],\n",
       "       [1., 1., 1.]])"
      ]
     },
     "execution_count": 7,
     "metadata": {},
     "output_type": "execute_result"
    }
   ],
   "source": [
    "np.ones((3, 3))"
   ]
  },
  {
   "cell_type": "markdown",
   "metadata": {},
   "source": [
    "# Eye\n",
    "\n",
    "* Criar uma matriz de identidade"
   ]
  },
  {
   "cell_type": "code",
   "execution_count": 8,
   "metadata": {},
   "outputs": [
    {
     "data": {
      "text/plain": [
       "array([[1., 0., 0., 0.],\n",
       "       [0., 1., 0., 0.],\n",
       "       [0., 0., 1., 0.],\n",
       "       [0., 0., 0., 1.]])"
      ]
     },
     "execution_count": 8,
     "metadata": {},
     "output_type": "execute_result"
    }
   ],
   "source": [
    "np.eye(4)"
   ]
  },
  {
   "cell_type": "markdown",
   "metadata": {},
   "source": [
    "# Linspace\n",
    "\n",
    "* Semelhante ao arange, a diferença é que:\n",
    "    * No arange a gente especifica o número inicial, final e o intervalo\n",
    "    * No linspace a gente especifica o inicio da serie, fim da serie, quantos número queremos ver igualmentes passados na serie"
   ]
  },
  {
   "cell_type": "code",
   "execution_count": 9,
   "metadata": {},
   "outputs": [
    {
     "name": "stdout",
     "output_type": "stream",
     "text": [
      "[0.]\n",
      "[ 0. 10.]\n",
      "[ 0.  5. 10.]\n",
      "[ 0.  12.5 25. ]\n"
     ]
    }
   ],
   "source": [
    "import numpy as np\n",
    "\n",
    "n1 = np.linspace(0, 10, 1)\n",
    "n2 = np.linspace(0, 10, 2)\n",
    "n3 = np.linspace(0, 10, 3)\n",
    "n4 = np.linspace(0, 25, 3)\n",
    "\n",
    "print(n1)\n",
    "print(n2)\n",
    "print(n3)\n",
    "print(n4)"
   ]
  },
  {
   "cell_type": "markdown",
   "metadata": {},
   "source": [
    "# Random\n",
    "* O random vai criar números aleatórios"
   ]
  },
  {
   "cell_type": "code",
   "execution_count": 10,
   "metadata": {},
   "outputs": [
    {
     "name": "stdout",
     "output_type": "stream",
     "text": [
      "[0.21615177 0.92192652 0.13114842 0.2013209  0.64977424]\n",
      "[32.51313596 30.87798606 50.80200883 95.05451461 65.49239061]\n",
      "[[0.53480861 0.03909286 0.84764956 0.43154528]\n",
      " [0.49501911 0.01307101 0.19398017 0.30996177]\n",
      " [0.86258203 0.25277484 0.76435568 0.50916092]\n",
      " [0.58369525 0.74376941 0.07225617 0.13128096]\n",
      " [0.23900672 0.94853785 0.08221448 0.55469464]]\n",
      "[[[0.95777153 0.39675849 0.23298302]\n",
      "  [0.17054096 0.13379125 0.60223023]\n",
      "  [0.14666089 0.68382882 0.25216129]\n",
      "  [0.60900284 0.97365451 0.69349058]]\n",
      "\n",
      " [[0.97527197 0.47581976 0.16753237]\n",
      "  [0.04124748 0.73730209 0.09719254]\n",
      "  [0.85847391 0.5593349  0.36770539]\n",
      "  [0.52732577 0.11541005 0.26216552]]\n",
      "\n",
      " [[0.48701903 0.3096726  0.78661516]\n",
      "  [0.97122421 0.26945047 0.36877998]\n",
      "  [0.67368207 0.70701793 0.39743294]\n",
      "  [0.54365167 0.92041631 0.92208279]]\n",
      "\n",
      " [[0.945776   0.2358423  0.47506315]\n",
      "  [0.92973707 0.7335803  0.36858183]\n",
      "  [0.85581156 0.11943817 0.75351181]\n",
      "  [0.6467633  0.01563329 0.54130959]]\n",
      "\n",
      " [[0.89640531 0.08066436 0.41082449]\n",
      "  [0.55772316 0.31418367 0.9164532 ]\n",
      "  [0.93290182 0.37239217 0.31342166]\n",
      "  [0.97107251 0.89031229 0.04335937]]]\n"
     ]
    }
   ],
   "source": [
    "import numpy as np\n",
    "\n",
    "print(np.random.rand(5)) #Apenas numeros entre 0 e 1\n",
    "print(np.random.rand(5) * 100) #Apenas numeros entre 0 e 100\n",
    "print(np.random.rand(5, 4)) #Criando matriz de números aleatorios entre 0 e 1, com 5 linhas e 4 colunas 5x4\n",
    "print(np.random.rand(5, 4, 3)) #Criando matriz de números aleatorios entre 0 e 1, com 5 linhas e 4 colunas 5x4 e 3 dimensões"
   ]
  },
  {
   "cell_type": "markdown",
   "metadata": {},
   "source": [
    "# Randn\n",
    "* Vai retornar números aleatorios, mas esses números não são tirados de uma distribuíção uniforma, são tirados de uma distribuição normal, média 0 induzindo padrão 1"
   ]
  },
  {
   "cell_type": "code",
   "execution_count": 14,
   "metadata": {},
   "outputs": [
    {
     "name": "stdout",
     "output_type": "stream",
     "text": [
      "[-1.13374996 -0.97884007 -0.31287204  0.78194446]\n"
     ]
    }
   ],
   "source": [
    "import numpy as np\n",
    "\n",
    "print(np.random.randn(4))"
   ]
  },
  {
   "cell_type": "code",
   "execution_count": 16,
   "metadata": {},
   "outputs": [
    {
     "name": "stdout",
     "output_type": "stream",
     "text": [
      "[96 25 75 78 54 81 71 84 28 83]\n"
     ]
    }
   ],
   "source": [
    "import numpy as np\n",
    "\n",
    "print(np.random.randint(0, 100, 10)) #números aleatorios inteiros"
   ]
  },
  {
   "cell_type": "code",
   "execution_count": 17,
   "metadata": {},
   "outputs": [
    {
     "name": "stdout",
     "output_type": "stream",
     "text": [
      "[0.89962896 0.6411463  0.00702869 0.16513166 0.26551973 0.26874467\n",
      " 0.71745801 0.43758559 0.89385228 0.03313704 0.50076318 0.53445815\n",
      " 0.01259962 0.06783771 0.95736548 0.23053605 0.20975878 0.33761765\n",
      " 0.20092149 0.51559416 0.60026825 0.18604339 0.3946293  0.3056122\n",
      " 0.52292594]\n",
      "(25,)\n"
     ]
    }
   ],
   "source": [
    "import numpy as np\n",
    "\n",
    "arr = np.random.rand(25) #array de tamanho 25\n",
    "\n",
    "print(arr)\n",
    "\n",
    "print(arr.shape)"
   ]
  },
  {
   "cell_type": "code",
   "execution_count": 18,
   "metadata": {},
   "outputs": [
    {
     "name": "stdout",
     "output_type": "stream",
     "text": [
      "[[0.89962896 0.6411463  0.00702869 0.16513166 0.26551973]\n",
      " [0.26874467 0.71745801 0.43758559 0.89385228 0.03313704]\n",
      " [0.50076318 0.53445815 0.01259962 0.06783771 0.95736548]\n",
      " [0.23053605 0.20975878 0.33761765 0.20092149 0.51559416]\n",
      " [0.60026825 0.18604339 0.3946293  0.3056122  0.52292594]]\n",
      "(5, 5)\n",
      "0.957365479348093\n",
      "0.007028689092734797\n",
      "14\n",
      "2\n"
     ]
    }
   ],
   "source": [
    "arr = arr.reshape((5, 5)) #array de 5x5\n",
    "\n",
    "print(arr)\n",
    "\n",
    "print(arr.shape)\n",
    "\n",
    "print(arr.max()) #maior número do array\n",
    "print(arr.min()) #menor número do array\n",
    "print(arr.argmax()) #O indice do maior número do array\n",
    "print(arr.argmin()) #O indice do menor número do array"
   ]
  },
  {
   "cell_type": "code",
   "execution_count": null,
   "metadata": {},
   "outputs": [],
   "source": []
  }
 ],
 "metadata": {
  "kernelspec": {
   "display_name": "Python 3",
   "language": "python",
   "name": "python3"
  },
  "language_info": {
   "codemirror_mode": {
    "name": "ipython",
    "version": 3
   },
   "file_extension": ".py",
   "mimetype": "text/x-python",
   "name": "python",
   "nbconvert_exporter": "python",
   "pygments_lexer": "ipython3",
   "version": "3.9.0"
  }
 },
 "nbformat": 4,
 "nbformat_minor": 4
}
